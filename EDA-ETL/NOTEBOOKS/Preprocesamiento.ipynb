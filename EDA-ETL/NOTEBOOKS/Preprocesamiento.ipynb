{
 "cells": [
  {
   "cell_type": "code",
   "execution_count": 117,
   "metadata": {},
   "outputs": [
    {
     "name": "stdout",
     "output_type": "stream",
     "text": [
      "The autoreload extension is already loaded. To reload it, use:\n",
      "  %reload_ext autoreload\n"
     ]
    }
   ],
   "source": [
    "%load_ext autoreload\n",
    "%autoreload 2\n",
    "# Gestionar las rutas\n",
    "import utils.paths as path"
   ]
  },
  {
   "cell_type": "code",
   "execution_count": 118,
   "metadata": {},
   "outputs": [],
   "source": [
    "import pandas as pd\n",
    "import numpy as np\n",
    "import matplotlib.pyplot as plt\n",
    "import seaborn as sns"
   ]
  },
  {
   "cell_type": "code",
   "execution_count": 119,
   "metadata": {},
   "outputs": [],
   "source": [
    "data_dir = path.make_dir_function('data')\n",
    "raw_data_dir = data_dir('raw')\n",
    "csv_files = raw_data_dir.glob('*.csv')"
   ]
  },
  {
   "cell_type": "code",
   "execution_count": 120,
   "metadata": {},
   "outputs": [],
   "source": [
    "csv_files_dict = {}\n",
    "for csv_file in csv_files:\n",
    "    csv_files_dict[f\"{csv_file.name.lower().split('.')[0]}\"] = csv_file"
   ]
  },
  {
   "cell_type": "code",
   "execution_count": 121,
   "metadata": {},
   "outputs": [],
   "source": [
    "import pandas_profiling"
   ]
  },
  {
   "cell_type": "code",
   "execution_count": 122,
   "metadata": {},
   "outputs": [],
   "source": [
    "def show_profile_report(df_name, df_cols = None, title='Pandas Profiling Report'):\n",
    "    df = pd.read_csv(csv_files_dict[f'{df_name}'])\n",
    "    if df_cols is None:\n",
    "        df = df[df.columns]\n",
    "    else:\n",
    "        df = df[df_cols]\n",
    "    report = df.profile_report(title=f'<b>{title} - {df_name.title()}</b>', html={'style': {'fullwidth': True}})\n",
    "    return report"
   ]
  },
  {
   "cell_type": "code",
   "execution_count": 123,
   "metadata": {},
   "outputs": [],
   "source": [
    "from datetime import datetime"
   ]
  },
  {
   "cell_type": "code",
   "execution_count": 124,
   "metadata": {},
   "outputs": [],
   "source": [
    "# \n",
    "def change_dt_format(df, list_cols):\n",
    "    for col in list_cols:\n",
    "        df[col] = pd.to_datetime(df[col])#.dt.strftime('%Y-%m-%d')\n",
    "    return df"
   ]
  },
  {
   "attachments": {},
   "cell_type": "markdown",
   "metadata": {},
   "source": [
    "<h2 align=\"center\">Selección de variables</h2>"
   ]
  },
  {
   "cell_type": "code",
   "execution_count": 169,
   "metadata": {},
   "outputs": [],
   "source": [
    "# Datasets usados para el modelo 1\n",
    "df_admissions = pd.read_csv(csv_files_dict['admissions'])\n",
    "df_patients = pd.read_csv(csv_files_dict['patients'])\n",
    "df_icustays = pd.read_csv(csv_files_dict['icustays'])"
   ]
  },
  {
   "cell_type": "code",
   "execution_count": 170,
   "metadata": {},
   "outputs": [],
   "source": [
    "# Cambiando el tipo de dato de las fechas\n",
    "df_patients = change_dt_format(df_patients, ['dob', 'dod'])\n",
    "df_icustays =  change_dt_format(df_icustays, ['intime', 'outtime'])"
   ]
  },
  {
   "cell_type": "code",
   "execution_count": 171,
   "metadata": {},
   "outputs": [
    {
     "data": {
      "text/html": [
       "<div>\n",
       "<style scoped>\n",
       "    .dataframe tbody tr th:only-of-type {\n",
       "        vertical-align: middle;\n",
       "    }\n",
       "\n",
       "    .dataframe tbody tr th {\n",
       "        vertical-align: top;\n",
       "    }\n",
       "\n",
       "    .dataframe thead th {\n",
       "        text-align: right;\n",
       "    }\n",
       "</style>\n",
       "<table border=\"1\" class=\"dataframe\">\n",
       "  <thead>\n",
       "    <tr style=\"text-align: right;\">\n",
       "      <th></th>\n",
       "      <th>row_id</th>\n",
       "      <th>subject_id</th>\n",
       "      <th>hadm_id</th>\n",
       "      <th>icustay_id</th>\n",
       "      <th>dbsource</th>\n",
       "      <th>first_careunit</th>\n",
       "      <th>last_careunit</th>\n",
       "      <th>first_wardid</th>\n",
       "      <th>last_wardid</th>\n",
       "      <th>intime</th>\n",
       "      <th>outtime</th>\n",
       "      <th>los</th>\n",
       "    </tr>\n",
       "  </thead>\n",
       "  <tbody>\n",
       "    <tr>\n",
       "      <th>0</th>\n",
       "      <td>12742</td>\n",
       "      <td>10006</td>\n",
       "      <td>142345</td>\n",
       "      <td>206504</td>\n",
       "      <td>carevue</td>\n",
       "      <td>MICU</td>\n",
       "      <td>MICU</td>\n",
       "      <td>52</td>\n",
       "      <td>52</td>\n",
       "      <td>2164-10-23 21:10:15</td>\n",
       "      <td>2164-10-25 12:21:07</td>\n",
       "      <td>1.6325</td>\n",
       "    </tr>\n",
       "  </tbody>\n",
       "</table>\n",
       "</div>"
      ],
      "text/plain": [
       "   row_id  subject_id  hadm_id  icustay_id dbsource first_careunit  \\\n",
       "0   12742       10006   142345      206504  carevue           MICU   \n",
       "\n",
       "  last_careunit  first_wardid  last_wardid              intime  \\\n",
       "0          MICU            52           52 2164-10-23 21:10:15   \n",
       "\n",
       "              outtime     los  \n",
       "0 2164-10-25 12:21:07  1.6325  "
      ]
     },
     "execution_count": 171,
     "metadata": {},
     "output_type": "execute_result"
    }
   ],
   "source": [
    "df_icustays.head(1)"
   ]
  },
  {
   "cell_type": "code",
   "execution_count": 173,
   "metadata": {},
   "outputs": [],
   "source": [
    "# Recálculo del LOS (lenght of stay)\n",
    "df_icustays['los'] = (df_icustays['outtime'] - df_icustays['intime']).dt.total_seconds() / (3600*24)"
   ]
  },
  {
   "cell_type": "code",
   "execution_count": 174,
   "metadata": {},
   "outputs": [],
   "source": [
    "from dateutil.relativedelta import relativedelta\n",
    "\n",
    "# Selección de variables de los diferentes datasets\n",
    "admissions_ml = df_admissions[[\"subject_id\", \"admission_type\", \"insurance\", \"language\", \"religion\", \"marital_status\", \"ethnicity\", \"hospital_expire_flag\"]]\n",
    "# df_patients['age_death'] = df_patients.apply(lambda x: relativedelta(x['dod'], x['dob']).years, axis=1)\n",
    "patients_ml = df_patients[['subject_id', 'gender']]"
   ]
  },
  {
   "cell_type": "code",
   "execution_count": 175,
   "metadata": {},
   "outputs": [],
   "source": [
    "# sns.histplot(df_patients, x='age_death')\n",
    "# plt.title(\"Distributions de la edad de fallecimiento del paciente\")\n",
    "# plt.xlabel('Edad de fallecimiento (Años)')\n",
    "# plt.show()"
   ]
  },
  {
   "cell_type": "code",
   "execution_count": 176,
   "metadata": {},
   "outputs": [],
   "source": [
    "# Dataframe original con variables seleccionadas para el modelado con ML\n",
    "df = pd.merge(admissions_ml, patients_ml, on='subject_id', how='outer')"
   ]
  },
  {
   "cell_type": "code",
   "execution_count": 206,
   "metadata": {},
   "outputs": [],
   "source": [
    "# Dataframe original con variables seleccionadas para el modelado con ML\n",
    "ml_df = pd.merge(admissions_ml, patients_ml, on='subject_id', how='outer')"
   ]
  },
  {
   "cell_type": "code",
   "execution_count": 177,
   "metadata": {},
   "outputs": [
    {
     "data": {
      "text/html": [
       "<div>\n",
       "<style scoped>\n",
       "    .dataframe tbody tr th:only-of-type {\n",
       "        vertical-align: middle;\n",
       "    }\n",
       "\n",
       "    .dataframe tbody tr th {\n",
       "        vertical-align: top;\n",
       "    }\n",
       "\n",
       "    .dataframe thead th {\n",
       "        text-align: right;\n",
       "    }\n",
       "</style>\n",
       "<table border=\"1\" class=\"dataframe\">\n",
       "  <thead>\n",
       "    <tr style=\"text-align: right;\">\n",
       "      <th></th>\n",
       "      <th>subject_id</th>\n",
       "      <th>admission_type</th>\n",
       "      <th>insurance</th>\n",
       "      <th>language</th>\n",
       "      <th>religion</th>\n",
       "      <th>marital_status</th>\n",
       "      <th>ethnicity</th>\n",
       "      <th>hospital_expire_flag</th>\n",
       "      <th>gender</th>\n",
       "    </tr>\n",
       "  </thead>\n",
       "  <tbody>\n",
       "    <tr>\n",
       "      <th>0</th>\n",
       "      <td>10006</td>\n",
       "      <td>EMERGENCY</td>\n",
       "      <td>Medicare</td>\n",
       "      <td>NaN</td>\n",
       "      <td>CATHOLIC</td>\n",
       "      <td>SEPARATED</td>\n",
       "      <td>BLACK/AFRICAN AMERICAN</td>\n",
       "      <td>0</td>\n",
       "      <td>F</td>\n",
       "    </tr>\n",
       "    <tr>\n",
       "      <th>1</th>\n",
       "      <td>10011</td>\n",
       "      <td>EMERGENCY</td>\n",
       "      <td>Private</td>\n",
       "      <td>NaN</td>\n",
       "      <td>CATHOLIC</td>\n",
       "      <td>SINGLE</td>\n",
       "      <td>UNKNOWN/NOT SPECIFIED</td>\n",
       "      <td>1</td>\n",
       "      <td>F</td>\n",
       "    </tr>\n",
       "  </tbody>\n",
       "</table>\n",
       "</div>"
      ],
      "text/plain": [
       "   subject_id admission_type insurance language  religion marital_status  \\\n",
       "0       10006      EMERGENCY  Medicare      NaN  CATHOLIC      SEPARATED   \n",
       "1       10011      EMERGENCY   Private      NaN  CATHOLIC         SINGLE   \n",
       "\n",
       "                ethnicity  hospital_expire_flag gender  \n",
       "0  BLACK/AFRICAN AMERICAN                     0      F  \n",
       "1   UNKNOWN/NOT SPECIFIED                     1      F  "
      ]
     },
     "execution_count": 177,
     "metadata": {},
     "output_type": "execute_result"
    }
   ],
   "source": [
    "df.head(2)"
   ]
  },
  {
   "attachments": {},
   "cell_type": "markdown",
   "metadata": {},
   "source": [
    "<h2 align=\"center\">Implementación de Modelos de Clusterización K-Means</h2>"
   ]
  },
  {
   "attachments": {},
   "cell_type": "markdown",
   "metadata": {},
   "source": [
    "K-means es un algortimo no supervisado (clustering) que funciona agrupando obsevaciones con valores de atributos similares al medir la distancia euclidiana entre puntos.\n",
    "\n",
    "Pasos para implementar el algortimo:\n",
    "\n",
    "Elegir el número de clústers K.\n",
    "Seleccionar k puntos aleatorios que serán los centroides de cada cluster.\n",
    "Asignar cada punto del dataset al centroide más cercano, esto permitirá un número k de clusters con los puntos cercanos.\n",
    "Calcular un nuevo centroide para cada cluster.\n",
    "Reasignar cada punto del conjunto de datos al nuevo centroide más cercano.\n",
    "Repetir desde el punto cuatro en adelante hasta conseguir las métricas que buscamos optimizar.\n",
    "¿Como seleccionaremos el número óptimo de Clusters (k))?\n",
    "\n",
    "Sabemos que el número de clusters (k) es un hiperparámetro del algoritmo K-Means. Para conseguir el número optimo a priori usaremos el Método de Codo que consiste en calcular la suma de los cuadrados intra-clusters (Within Cluster Sum of Square - WCSS), esta medida aproxima como de cerca son las distancias de los puntos a los centros del cluster asigandos:"
   ]
  },
  {
   "cell_type": "code",
   "execution_count": 179,
   "metadata": {},
   "outputs": [
    {
     "data": {
      "text/plain": [
       "Index(['subject_id', 'admission_type', 'insurance', 'language', 'religion',\n",
       "       'marital_status', 'ethnicity', 'hospital_expire_flag', 'gender'],\n",
       "      dtype='object')"
      ]
     },
     "execution_count": 179,
     "metadata": {},
     "output_type": "execute_result"
    }
   ],
   "source": [
    "df.columns"
   ]
  },
  {
   "cell_type": "code",
   "execution_count": 180,
   "metadata": {},
   "outputs": [],
   "source": [
    "# show_profile_report()\n",
    "# Función para agregar variables ficticias para reemplazar categóricas\n",
    "def categorical_var_to_dummy(df, col_name):\n",
    "    dummy = pd.get_dummies(df[col_name])\n",
    "    df.drop(columns=col_name, axis=1, inplace=True)\n",
    "    df = pd.concat([df, dummy], axis=1)\n",
    "    return df"
   ]
  },
  {
   "cell_type": "code",
   "execution_count": 181,
   "metadata": {},
   "outputs": [
    {
     "name": "stdout",
     "output_type": "stream",
     "text": [
      "<class 'pandas.core.frame.DataFrame'>\n",
      "Int64Index: 129 entries, 0 to 128\n",
      "Data columns (total 9 columns):\n",
      " #   Column                Non-Null Count  Dtype \n",
      "---  ------                --------------  ----- \n",
      " 0   subject_id            129 non-null    int64 \n",
      " 1   admission_type        129 non-null    object\n",
      " 2   insurance             129 non-null    object\n",
      " 3   language              81 non-null     object\n",
      " 4   religion              128 non-null    object\n",
      " 5   marital_status        113 non-null    object\n",
      " 6   ethnicity             129 non-null    object\n",
      " 7   hospital_expire_flag  129 non-null    int64 \n",
      " 8   gender                129 non-null    object\n",
      "dtypes: int64(2), object(7)\n",
      "memory usage: 10.1+ KB\n"
     ]
    }
   ],
   "source": [
    "df.info()"
   ]
  },
  {
   "cell_type": "code",
   "execution_count": 182,
   "metadata": {},
   "outputs": [
    {
     "data": {
      "text/plain": [
       "WHITE                                                       86\n",
       "HISPANIC/LATINO - PUERTO RICAN                              15\n",
       "UNKNOWN/NOT SPECIFIED                                       11\n",
       "BLACK/AFRICAN AMERICAN                                       7\n",
       "OTHER                                                        3\n",
       "ASIAN                                                        2\n",
       "HISPANIC OR LATINO                                           2\n",
       "AMERICAN INDIAN/ALASKA NATIVE FEDERALLY RECOGNIZED TRIBE     2\n",
       "UNABLE TO OBTAIN                                             1\n",
       "Name: ethnicity, dtype: int64"
      ]
     },
     "execution_count": 182,
     "metadata": {},
     "output_type": "execute_result"
    }
   ],
   "source": [
    "df['ethnicity'].value_counts()"
   ]
  },
  {
   "attachments": {},
   "cell_type": "markdown",
   "metadata": {},
   "source": [
    "Consideramos como una categoría única los que registros de pacientes cuyo grupo étnico sean ``'UNKNOWN/NOT SPECIFIED'``, ``'OTHER'`` y ``UNABLE TO OBTAIN`` como ``'OTHER UNK_NS UNA_OBT'``."
   ]
  },
  {
   "cell_type": "code",
   "execution_count": 183,
   "metadata": {},
   "outputs": [],
   "source": [
    "ethnicity_codes = {\n",
    "    'BLACK/AFRICAN AMERICAN': 'BLACK AFRI_AMER',\n",
    "    'UNKNOWN/NOT SPECIFIED': 'OTHER UNK_NS UNA_OBT',\n",
    "    'WHITE': 'WHITE',\n",
    "    'OTHER': 'OTHER UNK_NS UNA_OBT',\n",
    "    'ASIAN': 'ASIAN',\n",
    "    'HISPANIC OR LATINO': 'HISP LATIN',\n",
    "    'HISPANIC/LATINO - PUERTO RICAN': 'PUERTO RICAN',\n",
    "    'UNABLE TO OBTAIN': 'OTHER UNK_NS UNA_OBT',\n",
    "    'AMERICAN INDIAN/ALASKA NATIVE FEDERALLY RECOGNIZED TRIBE': 'AMERERICAN INDIAN'\n",
    "}"
   ]
  },
  {
   "cell_type": "code",
   "execution_count": 184,
   "metadata": {},
   "outputs": [],
   "source": [
    "# Aplicamos la la transformacion de recategorización\n",
    "df['ethnicity'] = df['ethnicity'].replace(ethnicity_codes)"
   ]
  },
  {
   "cell_type": "code",
   "execution_count": 185,
   "metadata": {},
   "outputs": [],
   "source": [
    "# Reemplazo de valores completos de los idiomas\n",
    "df['language'] = df['language'].str.replace('ENGL', 'ENGLISH')\n",
    "df['language'] = df['language'].str.replace('SPAN', 'SPANISH')\n",
    "df['language'] = df['language'].str.replace('RUSS', 'RUSSIAN')\n",
    "df['language'] = df['language'].str.replace('POLI', 'POLISH')\n",
    "df['language'] = df['language'].str.replace('MAND', 'MANDARIN')"
   ]
  },
  {
   "cell_type": "code",
   "execution_count": 186,
   "metadata": {},
   "outputs": [],
   "source": [
    "# Reemplar los valores nulos por \"Otro/OTHER\"\n",
    "df['language'] = df['language'].fillna('OTHER')"
   ]
  },
  {
   "cell_type": "code",
   "execution_count": null,
   "metadata": {},
   "outputs": [],
   "source": [
    "# Conversion  de las variables categóricas a variables dummy\n",
    "df = categorical_var_to_dummy(df, 'admission_type')\n",
    "df = categorical_var_to_dummy(df, 'insurance')\n",
    "df = categorical_var_to_dummy(df, 'language')\n",
    "df = categorical_var_to_dummy(df, 'religion')\n",
    "df = categorical_var_to_dummy(df, 'marital_status')\n",
    "df = categorical_var_to_dummy(df, 'ethnicity')\n",
    "df = categorical_var_to_dummy(df, 'gender')"
   ]
  },
  {
   "cell_type": "code",
   "execution_count": 189,
   "metadata": {},
   "outputs": [],
   "source": [
    "# Convertimos a minúsculas los nombres de las columnas del dataframe\n",
    "df.columns = [col.lower() for col in df.columns]"
   ]
  },
  {
   "cell_type": "code",
   "execution_count": 191,
   "metadata": {},
   "outputs": [
    {
     "data": {
      "text/html": [
       "<div>\n",
       "<style scoped>\n",
       "    .dataframe tbody tr th:only-of-type {\n",
       "        vertical-align: middle;\n",
       "    }\n",
       "\n",
       "    .dataframe tbody tr th {\n",
       "        vertical-align: top;\n",
       "    }\n",
       "\n",
       "    .dataframe thead th {\n",
       "        text-align: right;\n",
       "    }\n",
       "</style>\n",
       "<table border=\"1\" class=\"dataframe\">\n",
       "  <thead>\n",
       "    <tr style=\"text-align: right;\">\n",
       "      <th></th>\n",
       "      <th>subject_id</th>\n",
       "      <th>hospital_expire_flag</th>\n",
       "      <th>elective</th>\n",
       "      <th>emergency</th>\n",
       "      <th>urgent</th>\n",
       "      <th>government</th>\n",
       "      <th>medicaid</th>\n",
       "      <th>medicare</th>\n",
       "      <th>private</th>\n",
       "      <th>english</th>\n",
       "      <th>...</th>\n",
       "      <th>widowed</th>\n",
       "      <th>amererican indian</th>\n",
       "      <th>asian</th>\n",
       "      <th>black afri_amer</th>\n",
       "      <th>hisp latin</th>\n",
       "      <th>other unk_ns una_obt</th>\n",
       "      <th>puerto rican</th>\n",
       "      <th>white</th>\n",
       "      <th>f</th>\n",
       "      <th>m</th>\n",
       "    </tr>\n",
       "  </thead>\n",
       "  <tbody>\n",
       "    <tr>\n",
       "      <th>0</th>\n",
       "      <td>10006</td>\n",
       "      <td>0</td>\n",
       "      <td>0</td>\n",
       "      <td>1</td>\n",
       "      <td>0</td>\n",
       "      <td>0</td>\n",
       "      <td>0</td>\n",
       "      <td>1</td>\n",
       "      <td>0</td>\n",
       "      <td>0</td>\n",
       "      <td>...</td>\n",
       "      <td>0</td>\n",
       "      <td>0</td>\n",
       "      <td>0</td>\n",
       "      <td>1</td>\n",
       "      <td>0</td>\n",
       "      <td>0</td>\n",
       "      <td>0</td>\n",
       "      <td>0</td>\n",
       "      <td>1</td>\n",
       "      <td>0</td>\n",
       "    </tr>\n",
       "  </tbody>\n",
       "</table>\n",
       "<p>1 rows × 40 columns</p>\n",
       "</div>"
      ],
      "text/plain": [
       "   subject_id  hospital_expire_flag  elective  emergency  urgent  government  \\\n",
       "0       10006                     0         0          1       0           0   \n",
       "\n",
       "   medicaid  medicare  private  english  ...  widowed  amererican indian  \\\n",
       "0         0         1        0        0  ...        0                  0   \n",
       "\n",
       "   asian  black afri_amer  hisp latin  other unk_ns una_obt  puerto rican  \\\n",
       "0      0                1           0                     0             0   \n",
       "\n",
       "   white  f  m  \n",
       "0      0  1  0  \n",
       "\n",
       "[1 rows x 40 columns]"
      ]
     },
     "execution_count": 191,
     "metadata": {},
     "output_type": "execute_result"
    }
   ],
   "source": [
    "df.head(1)"
   ]
  },
  {
   "cell_type": "code",
   "execution_count": 192,
   "metadata": {},
   "outputs": [],
   "source": [
    "# No consideraremos la columna subject_id\n",
    "df = df.iloc[::, 1:]"
   ]
  },
  {
   "cell_type": "code",
   "execution_count": 193,
   "metadata": {},
   "outputs": [],
   "source": [
    "import seaborn as sns\n",
    "import matplotlib.pyplot as plt\n",
    "import plotly.express as px\n",
    "import plotly.graph_objects as go"
   ]
  },
  {
   "cell_type": "code",
   "execution_count": 194,
   "metadata": {},
   "outputs": [],
   "source": [
    "from sklearn.preprocessing import StandardScaler,MinMaxScaler, RobustScaler, normalize\n",
    "from sklearn.cluster import KMeans\n",
    "from sklearn.decomposition import PCA\n",
    "from sklearn.metrics import silhouette_score\n",
    "from sklearn.manifold import TSNE\n",
    "from sklearn.metrics.pairwise import cosine_similarity"
   ]
  },
  {
   "cell_type": "code",
   "execution_count": 195,
   "metadata": {},
   "outputs": [
    {
     "data": {
      "text/plain": [
       "((129, 39), (129, 39), (129, 39))"
      ]
     },
     "execution_count": 195,
     "metadata": {},
     "output_type": "execute_result"
    }
   ],
   "source": [
    "# Escalamos los datos con StanderScaler()\n",
    "std_scaler = StandardScaler()\n",
    "df_std_scaled = std_scaler.fit_transform(df)\n",
    "\n",
    "# Escalamos los datos con MinMaxScaler()\n",
    "mm_scaler = MinMaxScaler()\n",
    "df_mm_scaled = mm_scaler.fit_transform(df)\n",
    "\n",
    "# Escalamos los datos con RobustScaler()\n",
    "robust_scaler = RobustScaler()\n",
    "df_robust_scaled = robust_scaler.fit_transform(df)\n",
    "\n",
    "# Dimensiones de las listas escaladas. NO varian las dimensiones\n",
    "df_std_scaled.shape, df_mm_scaled.shape, df_robust_scaled.shape"
   ]
  },
  {
   "cell_type": "code",
   "execution_count": 196,
   "metadata": {},
   "outputs": [],
   "source": [
    "scalers = {\n",
    "    'standard': df_mm_scaled,\n",
    "    'minmax': df_mm_scaled,\n",
    "    'robust': df_robust_scaled\n",
    "}"
   ]
  },
  {
   "cell_type": "code",
   "execution_count": 227,
   "metadata": {},
   "outputs": [],
   "source": [
    "from itertools import cycle\n",
    "\n",
    "def plot_wscc(list_scalers, num_k_optimized):\n",
    "    \n",
    "    plt.style.use('seaborn')\n",
    "    sns.set_style('whitegrid')\n",
    "    \n",
    "    # lista_y = cycle([5690.427, 5690.427, 11.68018*1000])\n",
    "    lista_y = []\n",
    "    color_cycle = cycle(plt.rcParams['axes.prop_cycle'].by_key()['color'])\n",
    "    x_max = 21\n",
    "    for j in range(len(list_scalers)):\n",
    "\n",
    "        scores = []\n",
    "\n",
    "        for i in range(1,x_max):\n",
    "            kmeans = KMeans(n_clusters=i)\n",
    "            kmeans.fit(list_scalers[list(scalers.keys())[j]])\n",
    "            scores.append(kmeans.inertia_) # la inercia es la suma de los cuadrados de las distancias de las observaciones al centro del cluster más cercano\n",
    "            if i == num_k_optimized:\n",
    "                lista_y.append(kmeans.inertia_)\n",
    "\n",
    "        fig = plt.Figure(figsize = (12, 5))\n",
    "        fig = px.line(\n",
    "                    x=np.arange(1,x_max),\n",
    "                    y=np.array(scores),\n",
    "                    # color = next(color_list),\n",
    "                    # color_discrete_sequence = px.colors.qualitative.G10,\n",
    "                    height = 600,\n",
    "                    markers=True,\n",
    "                    labels={\n",
    "                        'x': 'N° de Clusters',\n",
    "                        'y': 'WCSS'\n",
    "                    }\n",
    "                    )\n",
    "        color_font_line = next(color_cycle)\n",
    "        fig.update_traces(line_color=color_font_line)\n",
    "        # Configuración del diseño de elementos de la figura\n",
    "        fig.update_layout(\n",
    "            title={\n",
    "                'text': f'Encontrar el número correcto de clusters con {list(scalers.keys())[j]} escaler',\n",
    "                # 'y':0.95,\n",
    "                'x':0.5,\n",
    "                'xanchor': 'center',\n",
    "                'yanchor': 'top',\n",
    "                'font_size': 22,\n",
    "                'font_color': color_font_line}\n",
    "            )\n",
    "        # Anotación\n",
    "        fig.add_annotation(\n",
    "                text=\"Número óptimo de clusters\",\n",
    "                x=num_k_optimized,\n",
    "                y=lista_y[j],\n",
    "                arrowhead=1,\n",
    "                showarrow=True,\n",
    "            )\n",
    "        fig.show()"
   ]
  },
  {
   "cell_type": "code",
   "execution_count": 248,
   "metadata": {},
   "outputs": [
    {
     "data": {
      "application/vnd.plotly.v1+json": {
       "config": {
        "plotlyServerURL": "https://plot.ly"
       },
       "data": [
        {
         "hovertemplate": "N° de Clusters=%{x}<br>WCSS=%{y}<extra></extra>",
         "legendgroup": "",
         "line": {
          "color": "#4C72B0",
          "dash": "solid"
         },
         "marker": {
          "symbol": "circle"
         },
         "mode": "markers+lines",
         "name": "",
         "orientation": "v",
         "showlegend": false,
         "type": "scatter",
         "x": [
          1,
          2,
          3,
          4,
          5,
          6,
          7,
          8,
          9,
          10,
          11,
          12,
          13,
          14,
          15,
          16,
          17,
          18,
          19,
          20
         ],
         "xaxis": "x",
         "y": [
          481.95348837209303,
          406.6142857142857,
          357.41818181818184,
          325.94641711229946,
          296.98354586589886,
          273.0386996904025,
          251.67205240995563,
          241.0511421911422,
          234.57291100712158,
          218.76128871128876,
          215.98494096203075,
          207.81526543631807,
          204.34310411810412,
          192.57335434173666,
          187.1715909090909,
          182.2861819552996,
          172.99628427128425,
          170.51720779220778,
          165.48827561327562,
          159.0930735930736
         ],
         "yaxis": "y"
        }
       ],
       "layout": {
        "annotations": [
         {
          "arrowhead": 1,
          "showarrow": true,
          "text": "Número óptimo de clusters",
          "x": 8,
          "y": 241.0511421911422
         }
        ],
        "height": 600,
        "legend": {
         "tracegroupgap": 0
        },
        "margin": {
         "t": 60
        },
        "template": {
         "data": {
          "bar": [
           {
            "error_x": {
             "color": "#2a3f5f"
            },
            "error_y": {
             "color": "#2a3f5f"
            },
            "marker": {
             "line": {
              "color": "#E5ECF6",
              "width": 0.5
             },
             "pattern": {
              "fillmode": "overlay",
              "size": 10,
              "solidity": 0.2
             }
            },
            "type": "bar"
           }
          ],
          "barpolar": [
           {
            "marker": {
             "line": {
              "color": "#E5ECF6",
              "width": 0.5
             },
             "pattern": {
              "fillmode": "overlay",
              "size": 10,
              "solidity": 0.2
             }
            },
            "type": "barpolar"
           }
          ],
          "carpet": [
           {
            "aaxis": {
             "endlinecolor": "#2a3f5f",
             "gridcolor": "white",
             "linecolor": "white",
             "minorgridcolor": "white",
             "startlinecolor": "#2a3f5f"
            },
            "baxis": {
             "endlinecolor": "#2a3f5f",
             "gridcolor": "white",
             "linecolor": "white",
             "minorgridcolor": "white",
             "startlinecolor": "#2a3f5f"
            },
            "type": "carpet"
           }
          ],
          "choropleth": [
           {
            "colorbar": {
             "outlinewidth": 0,
             "ticks": ""
            },
            "type": "choropleth"
           }
          ],
          "contour": [
           {
            "colorbar": {
             "outlinewidth": 0,
             "ticks": ""
            },
            "colorscale": [
             [
              0,
              "#0d0887"
             ],
             [
              0.1111111111111111,
              "#46039f"
             ],
             [
              0.2222222222222222,
              "#7201a8"
             ],
             [
              0.3333333333333333,
              "#9c179e"
             ],
             [
              0.4444444444444444,
              "#bd3786"
             ],
             [
              0.5555555555555556,
              "#d8576b"
             ],
             [
              0.6666666666666666,
              "#ed7953"
             ],
             [
              0.7777777777777778,
              "#fb9f3a"
             ],
             [
              0.8888888888888888,
              "#fdca26"
             ],
             [
              1,
              "#f0f921"
             ]
            ],
            "type": "contour"
           }
          ],
          "contourcarpet": [
           {
            "colorbar": {
             "outlinewidth": 0,
             "ticks": ""
            },
            "type": "contourcarpet"
           }
          ],
          "heatmap": [
           {
            "colorbar": {
             "outlinewidth": 0,
             "ticks": ""
            },
            "colorscale": [
             [
              0,
              "#0d0887"
             ],
             [
              0.1111111111111111,
              "#46039f"
             ],
             [
              0.2222222222222222,
              "#7201a8"
             ],
             [
              0.3333333333333333,
              "#9c179e"
             ],
             [
              0.4444444444444444,
              "#bd3786"
             ],
             [
              0.5555555555555556,
              "#d8576b"
             ],
             [
              0.6666666666666666,
              "#ed7953"
             ],
             [
              0.7777777777777778,
              "#fb9f3a"
             ],
             [
              0.8888888888888888,
              "#fdca26"
             ],
             [
              1,
              "#f0f921"
             ]
            ],
            "type": "heatmap"
           }
          ],
          "heatmapgl": [
           {
            "colorbar": {
             "outlinewidth": 0,
             "ticks": ""
            },
            "colorscale": [
             [
              0,
              "#0d0887"
             ],
             [
              0.1111111111111111,
              "#46039f"
             ],
             [
              0.2222222222222222,
              "#7201a8"
             ],
             [
              0.3333333333333333,
              "#9c179e"
             ],
             [
              0.4444444444444444,
              "#bd3786"
             ],
             [
              0.5555555555555556,
              "#d8576b"
             ],
             [
              0.6666666666666666,
              "#ed7953"
             ],
             [
              0.7777777777777778,
              "#fb9f3a"
             ],
             [
              0.8888888888888888,
              "#fdca26"
             ],
             [
              1,
              "#f0f921"
             ]
            ],
            "type": "heatmapgl"
           }
          ],
          "histogram": [
           {
            "marker": {
             "pattern": {
              "fillmode": "overlay",
              "size": 10,
              "solidity": 0.2
             }
            },
            "type": "histogram"
           }
          ],
          "histogram2d": [
           {
            "colorbar": {
             "outlinewidth": 0,
             "ticks": ""
            },
            "colorscale": [
             [
              0,
              "#0d0887"
             ],
             [
              0.1111111111111111,
              "#46039f"
             ],
             [
              0.2222222222222222,
              "#7201a8"
             ],
             [
              0.3333333333333333,
              "#9c179e"
             ],
             [
              0.4444444444444444,
              "#bd3786"
             ],
             [
              0.5555555555555556,
              "#d8576b"
             ],
             [
              0.6666666666666666,
              "#ed7953"
             ],
             [
              0.7777777777777778,
              "#fb9f3a"
             ],
             [
              0.8888888888888888,
              "#fdca26"
             ],
             [
              1,
              "#f0f921"
             ]
            ],
            "type": "histogram2d"
           }
          ],
          "histogram2dcontour": [
           {
            "colorbar": {
             "outlinewidth": 0,
             "ticks": ""
            },
            "colorscale": [
             [
              0,
              "#0d0887"
             ],
             [
              0.1111111111111111,
              "#46039f"
             ],
             [
              0.2222222222222222,
              "#7201a8"
             ],
             [
              0.3333333333333333,
              "#9c179e"
             ],
             [
              0.4444444444444444,
              "#bd3786"
             ],
             [
              0.5555555555555556,
              "#d8576b"
             ],
             [
              0.6666666666666666,
              "#ed7953"
             ],
             [
              0.7777777777777778,
              "#fb9f3a"
             ],
             [
              0.8888888888888888,
              "#fdca26"
             ],
             [
              1,
              "#f0f921"
             ]
            ],
            "type": "histogram2dcontour"
           }
          ],
          "mesh3d": [
           {
            "colorbar": {
             "outlinewidth": 0,
             "ticks": ""
            },
            "type": "mesh3d"
           }
          ],
          "parcoords": [
           {
            "line": {
             "colorbar": {
              "outlinewidth": 0,
              "ticks": ""
             }
            },
            "type": "parcoords"
           }
          ],
          "pie": [
           {
            "automargin": true,
            "type": "pie"
           }
          ],
          "scatter": [
           {
            "fillpattern": {
             "fillmode": "overlay",
             "size": 10,
             "solidity": 0.2
            },
            "type": "scatter"
           }
          ],
          "scatter3d": [
           {
            "line": {
             "colorbar": {
              "outlinewidth": 0,
              "ticks": ""
             }
            },
            "marker": {
             "colorbar": {
              "outlinewidth": 0,
              "ticks": ""
             }
            },
            "type": "scatter3d"
           }
          ],
          "scattercarpet": [
           {
            "marker": {
             "colorbar": {
              "outlinewidth": 0,
              "ticks": ""
             }
            },
            "type": "scattercarpet"
           }
          ],
          "scattergeo": [
           {
            "marker": {
             "colorbar": {
              "outlinewidth": 0,
              "ticks": ""
             }
            },
            "type": "scattergeo"
           }
          ],
          "scattergl": [
           {
            "marker": {
             "colorbar": {
              "outlinewidth": 0,
              "ticks": ""
             }
            },
            "type": "scattergl"
           }
          ],
          "scattermapbox": [
           {
            "marker": {
             "colorbar": {
              "outlinewidth": 0,
              "ticks": ""
             }
            },
            "type": "scattermapbox"
           }
          ],
          "scatterpolar": [
           {
            "marker": {
             "colorbar": {
              "outlinewidth": 0,
              "ticks": ""
             }
            },
            "type": "scatterpolar"
           }
          ],
          "scatterpolargl": [
           {
            "marker": {
             "colorbar": {
              "outlinewidth": 0,
              "ticks": ""
             }
            },
            "type": "scatterpolargl"
           }
          ],
          "scatterternary": [
           {
            "marker": {
             "colorbar": {
              "outlinewidth": 0,
              "ticks": ""
             }
            },
            "type": "scatterternary"
           }
          ],
          "surface": [
           {
            "colorbar": {
             "outlinewidth": 0,
             "ticks": ""
            },
            "colorscale": [
             [
              0,
              "#0d0887"
             ],
             [
              0.1111111111111111,
              "#46039f"
             ],
             [
              0.2222222222222222,
              "#7201a8"
             ],
             [
              0.3333333333333333,
              "#9c179e"
             ],
             [
              0.4444444444444444,
              "#bd3786"
             ],
             [
              0.5555555555555556,
              "#d8576b"
             ],
             [
              0.6666666666666666,
              "#ed7953"
             ],
             [
              0.7777777777777778,
              "#fb9f3a"
             ],
             [
              0.8888888888888888,
              "#fdca26"
             ],
             [
              1,
              "#f0f921"
             ]
            ],
            "type": "surface"
           }
          ],
          "table": [
           {
            "cells": {
             "fill": {
              "color": "#EBF0F8"
             },
             "line": {
              "color": "white"
             }
            },
            "header": {
             "fill": {
              "color": "#C8D4E3"
             },
             "line": {
              "color": "white"
             }
            },
            "type": "table"
           }
          ]
         },
         "layout": {
          "annotationdefaults": {
           "arrowcolor": "#2a3f5f",
           "arrowhead": 0,
           "arrowwidth": 1
          },
          "autotypenumbers": "strict",
          "coloraxis": {
           "colorbar": {
            "outlinewidth": 0,
            "ticks": ""
           }
          },
          "colorscale": {
           "diverging": [
            [
             0,
             "#8e0152"
            ],
            [
             0.1,
             "#c51b7d"
            ],
            [
             0.2,
             "#de77ae"
            ],
            [
             0.3,
             "#f1b6da"
            ],
            [
             0.4,
             "#fde0ef"
            ],
            [
             0.5,
             "#f7f7f7"
            ],
            [
             0.6,
             "#e6f5d0"
            ],
            [
             0.7,
             "#b8e186"
            ],
            [
             0.8,
             "#7fbc41"
            ],
            [
             0.9,
             "#4d9221"
            ],
            [
             1,
             "#276419"
            ]
           ],
           "sequential": [
            [
             0,
             "#0d0887"
            ],
            [
             0.1111111111111111,
             "#46039f"
            ],
            [
             0.2222222222222222,
             "#7201a8"
            ],
            [
             0.3333333333333333,
             "#9c179e"
            ],
            [
             0.4444444444444444,
             "#bd3786"
            ],
            [
             0.5555555555555556,
             "#d8576b"
            ],
            [
             0.6666666666666666,
             "#ed7953"
            ],
            [
             0.7777777777777778,
             "#fb9f3a"
            ],
            [
             0.8888888888888888,
             "#fdca26"
            ],
            [
             1,
             "#f0f921"
            ]
           ],
           "sequentialminus": [
            [
             0,
             "#0d0887"
            ],
            [
             0.1111111111111111,
             "#46039f"
            ],
            [
             0.2222222222222222,
             "#7201a8"
            ],
            [
             0.3333333333333333,
             "#9c179e"
            ],
            [
             0.4444444444444444,
             "#bd3786"
            ],
            [
             0.5555555555555556,
             "#d8576b"
            ],
            [
             0.6666666666666666,
             "#ed7953"
            ],
            [
             0.7777777777777778,
             "#fb9f3a"
            ],
            [
             0.8888888888888888,
             "#fdca26"
            ],
            [
             1,
             "#f0f921"
            ]
           ]
          },
          "colorway": [
           "#636efa",
           "#EF553B",
           "#00cc96",
           "#ab63fa",
           "#FFA15A",
           "#19d3f3",
           "#FF6692",
           "#B6E880",
           "#FF97FF",
           "#FECB52"
          ],
          "font": {
           "color": "#2a3f5f"
          },
          "geo": {
           "bgcolor": "white",
           "lakecolor": "white",
           "landcolor": "#E5ECF6",
           "showlakes": true,
           "showland": true,
           "subunitcolor": "white"
          },
          "hoverlabel": {
           "align": "left"
          },
          "hovermode": "closest",
          "mapbox": {
           "style": "light"
          },
          "paper_bgcolor": "white",
          "plot_bgcolor": "#E5ECF6",
          "polar": {
           "angularaxis": {
            "gridcolor": "white",
            "linecolor": "white",
            "ticks": ""
           },
           "bgcolor": "#E5ECF6",
           "radialaxis": {
            "gridcolor": "white",
            "linecolor": "white",
            "ticks": ""
           }
          },
          "scene": {
           "xaxis": {
            "backgroundcolor": "#E5ECF6",
            "gridcolor": "white",
            "gridwidth": 2,
            "linecolor": "white",
            "showbackground": true,
            "ticks": "",
            "zerolinecolor": "white"
           },
           "yaxis": {
            "backgroundcolor": "#E5ECF6",
            "gridcolor": "white",
            "gridwidth": 2,
            "linecolor": "white",
            "showbackground": true,
            "ticks": "",
            "zerolinecolor": "white"
           },
           "zaxis": {
            "backgroundcolor": "#E5ECF6",
            "gridcolor": "white",
            "gridwidth": 2,
            "linecolor": "white",
            "showbackground": true,
            "ticks": "",
            "zerolinecolor": "white"
           }
          },
          "shapedefaults": {
           "line": {
            "color": "#2a3f5f"
           }
          },
          "ternary": {
           "aaxis": {
            "gridcolor": "white",
            "linecolor": "white",
            "ticks": ""
           },
           "baxis": {
            "gridcolor": "white",
            "linecolor": "white",
            "ticks": ""
           },
           "bgcolor": "#E5ECF6",
           "caxis": {
            "gridcolor": "white",
            "linecolor": "white",
            "ticks": ""
           }
          },
          "title": {
           "x": 0.05
          },
          "xaxis": {
           "automargin": true,
           "gridcolor": "white",
           "linecolor": "white",
           "ticks": "",
           "title": {
            "standoff": 15
           },
           "zerolinecolor": "white",
           "zerolinewidth": 2
          },
          "yaxis": {
           "automargin": true,
           "gridcolor": "white",
           "linecolor": "white",
           "ticks": "",
           "title": {
            "standoff": 15
           },
           "zerolinecolor": "white",
           "zerolinewidth": 2
          }
         }
        },
        "title": {
         "font": {
          "color": "#4C72B0",
          "size": 22
         },
         "text": "Encontrar el número correcto de clusters con standard escaler",
         "x": 0.5,
         "xanchor": "center",
         "yanchor": "top"
        },
        "xaxis": {
         "anchor": "y",
         "domain": [
          0,
          1
         ],
         "title": {
          "text": "N° de Clusters"
         }
        },
        "yaxis": {
         "anchor": "x",
         "domain": [
          0,
          1
         ],
         "title": {
          "text": "WCSS"
         }
        }
       }
      }
     },
     "metadata": {},
     "output_type": "display_data"
    },
    {
     "data": {
      "application/vnd.plotly.v1+json": {
       "config": {
        "plotlyServerURL": "https://plot.ly"
       },
       "data": [
        {
         "hovertemplate": "N° de Clusters=%{x}<br>WCSS=%{y}<extra></extra>",
         "legendgroup": "",
         "line": {
          "color": "#55A868",
          "dash": "solid"
         },
         "marker": {
          "symbol": "circle"
         },
         "mode": "markers+lines",
         "name": "",
         "orientation": "v",
         "showlegend": false,
         "type": "scatter",
         "x": [
          1,
          2,
          3,
          4,
          5,
          6,
          7,
          8,
          9,
          10,
          11,
          12,
          13,
          14,
          15,
          16,
          17,
          18,
          19,
          20
         ],
         "xaxis": "x",
         "y": [
          481.95348837209303,
          406.6142857142857,
          357.41818181818184,
          321.7757352941176,
          295.6514468690702,
          271.86792391375155,
          252.68204365079362,
          245.30825396825398,
          230.4401779592956,
          226.0935391363023,
          214.14705988455992,
          206.0479797979798,
          198.83841991341993,
          195.4587662337662,
          190.23546935520622,
          177.89242424242425,
          177.53059922533606,
          170.44640914640914,
          164.10892857142858,
          161.37261904761903
         ],
         "yaxis": "y"
        }
       ],
       "layout": {
        "annotations": [
         {
          "arrowhead": 1,
          "showarrow": true,
          "text": "Número óptimo de clusters",
          "x": 8,
          "y": 245.30825396825398
         }
        ],
        "height": 600,
        "legend": {
         "tracegroupgap": 0
        },
        "margin": {
         "t": 60
        },
        "template": {
         "data": {
          "bar": [
           {
            "error_x": {
             "color": "#2a3f5f"
            },
            "error_y": {
             "color": "#2a3f5f"
            },
            "marker": {
             "line": {
              "color": "#E5ECF6",
              "width": 0.5
             },
             "pattern": {
              "fillmode": "overlay",
              "size": 10,
              "solidity": 0.2
             }
            },
            "type": "bar"
           }
          ],
          "barpolar": [
           {
            "marker": {
             "line": {
              "color": "#E5ECF6",
              "width": 0.5
             },
             "pattern": {
              "fillmode": "overlay",
              "size": 10,
              "solidity": 0.2
             }
            },
            "type": "barpolar"
           }
          ],
          "carpet": [
           {
            "aaxis": {
             "endlinecolor": "#2a3f5f",
             "gridcolor": "white",
             "linecolor": "white",
             "minorgridcolor": "white",
             "startlinecolor": "#2a3f5f"
            },
            "baxis": {
             "endlinecolor": "#2a3f5f",
             "gridcolor": "white",
             "linecolor": "white",
             "minorgridcolor": "white",
             "startlinecolor": "#2a3f5f"
            },
            "type": "carpet"
           }
          ],
          "choropleth": [
           {
            "colorbar": {
             "outlinewidth": 0,
             "ticks": ""
            },
            "type": "choropleth"
           }
          ],
          "contour": [
           {
            "colorbar": {
             "outlinewidth": 0,
             "ticks": ""
            },
            "colorscale": [
             [
              0,
              "#0d0887"
             ],
             [
              0.1111111111111111,
              "#46039f"
             ],
             [
              0.2222222222222222,
              "#7201a8"
             ],
             [
              0.3333333333333333,
              "#9c179e"
             ],
             [
              0.4444444444444444,
              "#bd3786"
             ],
             [
              0.5555555555555556,
              "#d8576b"
             ],
             [
              0.6666666666666666,
              "#ed7953"
             ],
             [
              0.7777777777777778,
              "#fb9f3a"
             ],
             [
              0.8888888888888888,
              "#fdca26"
             ],
             [
              1,
              "#f0f921"
             ]
            ],
            "type": "contour"
           }
          ],
          "contourcarpet": [
           {
            "colorbar": {
             "outlinewidth": 0,
             "ticks": ""
            },
            "type": "contourcarpet"
           }
          ],
          "heatmap": [
           {
            "colorbar": {
             "outlinewidth": 0,
             "ticks": ""
            },
            "colorscale": [
             [
              0,
              "#0d0887"
             ],
             [
              0.1111111111111111,
              "#46039f"
             ],
             [
              0.2222222222222222,
              "#7201a8"
             ],
             [
              0.3333333333333333,
              "#9c179e"
             ],
             [
              0.4444444444444444,
              "#bd3786"
             ],
             [
              0.5555555555555556,
              "#d8576b"
             ],
             [
              0.6666666666666666,
              "#ed7953"
             ],
             [
              0.7777777777777778,
              "#fb9f3a"
             ],
             [
              0.8888888888888888,
              "#fdca26"
             ],
             [
              1,
              "#f0f921"
             ]
            ],
            "type": "heatmap"
           }
          ],
          "heatmapgl": [
           {
            "colorbar": {
             "outlinewidth": 0,
             "ticks": ""
            },
            "colorscale": [
             [
              0,
              "#0d0887"
             ],
             [
              0.1111111111111111,
              "#46039f"
             ],
             [
              0.2222222222222222,
              "#7201a8"
             ],
             [
              0.3333333333333333,
              "#9c179e"
             ],
             [
              0.4444444444444444,
              "#bd3786"
             ],
             [
              0.5555555555555556,
              "#d8576b"
             ],
             [
              0.6666666666666666,
              "#ed7953"
             ],
             [
              0.7777777777777778,
              "#fb9f3a"
             ],
             [
              0.8888888888888888,
              "#fdca26"
             ],
             [
              1,
              "#f0f921"
             ]
            ],
            "type": "heatmapgl"
           }
          ],
          "histogram": [
           {
            "marker": {
             "pattern": {
              "fillmode": "overlay",
              "size": 10,
              "solidity": 0.2
             }
            },
            "type": "histogram"
           }
          ],
          "histogram2d": [
           {
            "colorbar": {
             "outlinewidth": 0,
             "ticks": ""
            },
            "colorscale": [
             [
              0,
              "#0d0887"
             ],
             [
              0.1111111111111111,
              "#46039f"
             ],
             [
              0.2222222222222222,
              "#7201a8"
             ],
             [
              0.3333333333333333,
              "#9c179e"
             ],
             [
              0.4444444444444444,
              "#bd3786"
             ],
             [
              0.5555555555555556,
              "#d8576b"
             ],
             [
              0.6666666666666666,
              "#ed7953"
             ],
             [
              0.7777777777777778,
              "#fb9f3a"
             ],
             [
              0.8888888888888888,
              "#fdca26"
             ],
             [
              1,
              "#f0f921"
             ]
            ],
            "type": "histogram2d"
           }
          ],
          "histogram2dcontour": [
           {
            "colorbar": {
             "outlinewidth": 0,
             "ticks": ""
            },
            "colorscale": [
             [
              0,
              "#0d0887"
             ],
             [
              0.1111111111111111,
              "#46039f"
             ],
             [
              0.2222222222222222,
              "#7201a8"
             ],
             [
              0.3333333333333333,
              "#9c179e"
             ],
             [
              0.4444444444444444,
              "#bd3786"
             ],
             [
              0.5555555555555556,
              "#d8576b"
             ],
             [
              0.6666666666666666,
              "#ed7953"
             ],
             [
              0.7777777777777778,
              "#fb9f3a"
             ],
             [
              0.8888888888888888,
              "#fdca26"
             ],
             [
              1,
              "#f0f921"
             ]
            ],
            "type": "histogram2dcontour"
           }
          ],
          "mesh3d": [
           {
            "colorbar": {
             "outlinewidth": 0,
             "ticks": ""
            },
            "type": "mesh3d"
           }
          ],
          "parcoords": [
           {
            "line": {
             "colorbar": {
              "outlinewidth": 0,
              "ticks": ""
             }
            },
            "type": "parcoords"
           }
          ],
          "pie": [
           {
            "automargin": true,
            "type": "pie"
           }
          ],
          "scatter": [
           {
            "fillpattern": {
             "fillmode": "overlay",
             "size": 10,
             "solidity": 0.2
            },
            "type": "scatter"
           }
          ],
          "scatter3d": [
           {
            "line": {
             "colorbar": {
              "outlinewidth": 0,
              "ticks": ""
             }
            },
            "marker": {
             "colorbar": {
              "outlinewidth": 0,
              "ticks": ""
             }
            },
            "type": "scatter3d"
           }
          ],
          "scattercarpet": [
           {
            "marker": {
             "colorbar": {
              "outlinewidth": 0,
              "ticks": ""
             }
            },
            "type": "scattercarpet"
           }
          ],
          "scattergeo": [
           {
            "marker": {
             "colorbar": {
              "outlinewidth": 0,
              "ticks": ""
             }
            },
            "type": "scattergeo"
           }
          ],
          "scattergl": [
           {
            "marker": {
             "colorbar": {
              "outlinewidth": 0,
              "ticks": ""
             }
            },
            "type": "scattergl"
           }
          ],
          "scattermapbox": [
           {
            "marker": {
             "colorbar": {
              "outlinewidth": 0,
              "ticks": ""
             }
            },
            "type": "scattermapbox"
           }
          ],
          "scatterpolar": [
           {
            "marker": {
             "colorbar": {
              "outlinewidth": 0,
              "ticks": ""
             }
            },
            "type": "scatterpolar"
           }
          ],
          "scatterpolargl": [
           {
            "marker": {
             "colorbar": {
              "outlinewidth": 0,
              "ticks": ""
             }
            },
            "type": "scatterpolargl"
           }
          ],
          "scatterternary": [
           {
            "marker": {
             "colorbar": {
              "outlinewidth": 0,
              "ticks": ""
             }
            },
            "type": "scatterternary"
           }
          ],
          "surface": [
           {
            "colorbar": {
             "outlinewidth": 0,
             "ticks": ""
            },
            "colorscale": [
             [
              0,
              "#0d0887"
             ],
             [
              0.1111111111111111,
              "#46039f"
             ],
             [
              0.2222222222222222,
              "#7201a8"
             ],
             [
              0.3333333333333333,
              "#9c179e"
             ],
             [
              0.4444444444444444,
              "#bd3786"
             ],
             [
              0.5555555555555556,
              "#d8576b"
             ],
             [
              0.6666666666666666,
              "#ed7953"
             ],
             [
              0.7777777777777778,
              "#fb9f3a"
             ],
             [
              0.8888888888888888,
              "#fdca26"
             ],
             [
              1,
              "#f0f921"
             ]
            ],
            "type": "surface"
           }
          ],
          "table": [
           {
            "cells": {
             "fill": {
              "color": "#EBF0F8"
             },
             "line": {
              "color": "white"
             }
            },
            "header": {
             "fill": {
              "color": "#C8D4E3"
             },
             "line": {
              "color": "white"
             }
            },
            "type": "table"
           }
          ]
         },
         "layout": {
          "annotationdefaults": {
           "arrowcolor": "#2a3f5f",
           "arrowhead": 0,
           "arrowwidth": 1
          },
          "autotypenumbers": "strict",
          "coloraxis": {
           "colorbar": {
            "outlinewidth": 0,
            "ticks": ""
           }
          },
          "colorscale": {
           "diverging": [
            [
             0,
             "#8e0152"
            ],
            [
             0.1,
             "#c51b7d"
            ],
            [
             0.2,
             "#de77ae"
            ],
            [
             0.3,
             "#f1b6da"
            ],
            [
             0.4,
             "#fde0ef"
            ],
            [
             0.5,
             "#f7f7f7"
            ],
            [
             0.6,
             "#e6f5d0"
            ],
            [
             0.7,
             "#b8e186"
            ],
            [
             0.8,
             "#7fbc41"
            ],
            [
             0.9,
             "#4d9221"
            ],
            [
             1,
             "#276419"
            ]
           ],
           "sequential": [
            [
             0,
             "#0d0887"
            ],
            [
             0.1111111111111111,
             "#46039f"
            ],
            [
             0.2222222222222222,
             "#7201a8"
            ],
            [
             0.3333333333333333,
             "#9c179e"
            ],
            [
             0.4444444444444444,
             "#bd3786"
            ],
            [
             0.5555555555555556,
             "#d8576b"
            ],
            [
             0.6666666666666666,
             "#ed7953"
            ],
            [
             0.7777777777777778,
             "#fb9f3a"
            ],
            [
             0.8888888888888888,
             "#fdca26"
            ],
            [
             1,
             "#f0f921"
            ]
           ],
           "sequentialminus": [
            [
             0,
             "#0d0887"
            ],
            [
             0.1111111111111111,
             "#46039f"
            ],
            [
             0.2222222222222222,
             "#7201a8"
            ],
            [
             0.3333333333333333,
             "#9c179e"
            ],
            [
             0.4444444444444444,
             "#bd3786"
            ],
            [
             0.5555555555555556,
             "#d8576b"
            ],
            [
             0.6666666666666666,
             "#ed7953"
            ],
            [
             0.7777777777777778,
             "#fb9f3a"
            ],
            [
             0.8888888888888888,
             "#fdca26"
            ],
            [
             1,
             "#f0f921"
            ]
           ]
          },
          "colorway": [
           "#636efa",
           "#EF553B",
           "#00cc96",
           "#ab63fa",
           "#FFA15A",
           "#19d3f3",
           "#FF6692",
           "#B6E880",
           "#FF97FF",
           "#FECB52"
          ],
          "font": {
           "color": "#2a3f5f"
          },
          "geo": {
           "bgcolor": "white",
           "lakecolor": "white",
           "landcolor": "#E5ECF6",
           "showlakes": true,
           "showland": true,
           "subunitcolor": "white"
          },
          "hoverlabel": {
           "align": "left"
          },
          "hovermode": "closest",
          "mapbox": {
           "style": "light"
          },
          "paper_bgcolor": "white",
          "plot_bgcolor": "#E5ECF6",
          "polar": {
           "angularaxis": {
            "gridcolor": "white",
            "linecolor": "white",
            "ticks": ""
           },
           "bgcolor": "#E5ECF6",
           "radialaxis": {
            "gridcolor": "white",
            "linecolor": "white",
            "ticks": ""
           }
          },
          "scene": {
           "xaxis": {
            "backgroundcolor": "#E5ECF6",
            "gridcolor": "white",
            "gridwidth": 2,
            "linecolor": "white",
            "showbackground": true,
            "ticks": "",
            "zerolinecolor": "white"
           },
           "yaxis": {
            "backgroundcolor": "#E5ECF6",
            "gridcolor": "white",
            "gridwidth": 2,
            "linecolor": "white",
            "showbackground": true,
            "ticks": "",
            "zerolinecolor": "white"
           },
           "zaxis": {
            "backgroundcolor": "#E5ECF6",
            "gridcolor": "white",
            "gridwidth": 2,
            "linecolor": "white",
            "showbackground": true,
            "ticks": "",
            "zerolinecolor": "white"
           }
          },
          "shapedefaults": {
           "line": {
            "color": "#2a3f5f"
           }
          },
          "ternary": {
           "aaxis": {
            "gridcolor": "white",
            "linecolor": "white",
            "ticks": ""
           },
           "baxis": {
            "gridcolor": "white",
            "linecolor": "white",
            "ticks": ""
           },
           "bgcolor": "#E5ECF6",
           "caxis": {
            "gridcolor": "white",
            "linecolor": "white",
            "ticks": ""
           }
          },
          "title": {
           "x": 0.05
          },
          "xaxis": {
           "automargin": true,
           "gridcolor": "white",
           "linecolor": "white",
           "ticks": "",
           "title": {
            "standoff": 15
           },
           "zerolinecolor": "white",
           "zerolinewidth": 2
          },
          "yaxis": {
           "automargin": true,
           "gridcolor": "white",
           "linecolor": "white",
           "ticks": "",
           "title": {
            "standoff": 15
           },
           "zerolinecolor": "white",
           "zerolinewidth": 2
          }
         }
        },
        "title": {
         "font": {
          "color": "#55A868",
          "size": 22
         },
         "text": "Encontrar el número correcto de clusters con minmax escaler",
         "x": 0.5,
         "xanchor": "center",
         "yanchor": "top"
        },
        "xaxis": {
         "anchor": "y",
         "domain": [
          0,
          1
         ],
         "title": {
          "text": "N° de Clusters"
         }
        },
        "yaxis": {
         "anchor": "x",
         "domain": [
          0,
          1
         ],
         "title": {
          "text": "WCSS"
         }
        }
       }
      }
     },
     "metadata": {},
     "output_type": "display_data"
    },
    {
     "data": {
      "application/vnd.plotly.v1+json": {
       "config": {
        "plotlyServerURL": "https://plot.ly"
       },
       "data": [
        {
         "hovertemplate": "N° de Clusters=%{x}<br>WCSS=%{y}<extra></extra>",
         "legendgroup": "",
         "line": {
          "color": "#C44E52",
          "dash": "solid"
         },
         "marker": {
          "symbol": "circle"
         },
         "mode": "markers+lines",
         "name": "",
         "orientation": "v",
         "showlegend": false,
         "type": "scatter",
         "x": [
          1,
          2,
          3,
          4,
          5,
          6,
          7,
          8,
          9,
          10,
          11,
          12,
          13,
          14,
          15,
          16,
          17,
          18,
          19,
          20
         ],
         "xaxis": "x",
         "y": [
          481.95348837209303,
          406.6142857142857,
          357.41818181818184,
          323.00920594168343,
          295.85351307189546,
          272.54614119608783,
          252.22129329004332,
          242.57105263157897,
          231.29375901875903,
          221.38961038961037,
          214.49080086580088,
          206.54480519480524,
          196.21383061383062,
          189.93290043290042,
          186.02695637695638,
          180.5130591630592,
          176.12774170274167,
          173.4146825396826,
          168.9698051948052,
          160.43760822510822
         ],
         "yaxis": "y"
        }
       ],
       "layout": {
        "annotations": [
         {
          "arrowhead": 1,
          "showarrow": true,
          "text": "Número óptimo de clusters",
          "x": 8,
          "y": 242.57105263157897
         }
        ],
        "height": 600,
        "legend": {
         "tracegroupgap": 0
        },
        "margin": {
         "t": 60
        },
        "template": {
         "data": {
          "bar": [
           {
            "error_x": {
             "color": "#2a3f5f"
            },
            "error_y": {
             "color": "#2a3f5f"
            },
            "marker": {
             "line": {
              "color": "#E5ECF6",
              "width": 0.5
             },
             "pattern": {
              "fillmode": "overlay",
              "size": 10,
              "solidity": 0.2
             }
            },
            "type": "bar"
           }
          ],
          "barpolar": [
           {
            "marker": {
             "line": {
              "color": "#E5ECF6",
              "width": 0.5
             },
             "pattern": {
              "fillmode": "overlay",
              "size": 10,
              "solidity": 0.2
             }
            },
            "type": "barpolar"
           }
          ],
          "carpet": [
           {
            "aaxis": {
             "endlinecolor": "#2a3f5f",
             "gridcolor": "white",
             "linecolor": "white",
             "minorgridcolor": "white",
             "startlinecolor": "#2a3f5f"
            },
            "baxis": {
             "endlinecolor": "#2a3f5f",
             "gridcolor": "white",
             "linecolor": "white",
             "minorgridcolor": "white",
             "startlinecolor": "#2a3f5f"
            },
            "type": "carpet"
           }
          ],
          "choropleth": [
           {
            "colorbar": {
             "outlinewidth": 0,
             "ticks": ""
            },
            "type": "choropleth"
           }
          ],
          "contour": [
           {
            "colorbar": {
             "outlinewidth": 0,
             "ticks": ""
            },
            "colorscale": [
             [
              0,
              "#0d0887"
             ],
             [
              0.1111111111111111,
              "#46039f"
             ],
             [
              0.2222222222222222,
              "#7201a8"
             ],
             [
              0.3333333333333333,
              "#9c179e"
             ],
             [
              0.4444444444444444,
              "#bd3786"
             ],
             [
              0.5555555555555556,
              "#d8576b"
             ],
             [
              0.6666666666666666,
              "#ed7953"
             ],
             [
              0.7777777777777778,
              "#fb9f3a"
             ],
             [
              0.8888888888888888,
              "#fdca26"
             ],
             [
              1,
              "#f0f921"
             ]
            ],
            "type": "contour"
           }
          ],
          "contourcarpet": [
           {
            "colorbar": {
             "outlinewidth": 0,
             "ticks": ""
            },
            "type": "contourcarpet"
           }
          ],
          "heatmap": [
           {
            "colorbar": {
             "outlinewidth": 0,
             "ticks": ""
            },
            "colorscale": [
             [
              0,
              "#0d0887"
             ],
             [
              0.1111111111111111,
              "#46039f"
             ],
             [
              0.2222222222222222,
              "#7201a8"
             ],
             [
              0.3333333333333333,
              "#9c179e"
             ],
             [
              0.4444444444444444,
              "#bd3786"
             ],
             [
              0.5555555555555556,
              "#d8576b"
             ],
             [
              0.6666666666666666,
              "#ed7953"
             ],
             [
              0.7777777777777778,
              "#fb9f3a"
             ],
             [
              0.8888888888888888,
              "#fdca26"
             ],
             [
              1,
              "#f0f921"
             ]
            ],
            "type": "heatmap"
           }
          ],
          "heatmapgl": [
           {
            "colorbar": {
             "outlinewidth": 0,
             "ticks": ""
            },
            "colorscale": [
             [
              0,
              "#0d0887"
             ],
             [
              0.1111111111111111,
              "#46039f"
             ],
             [
              0.2222222222222222,
              "#7201a8"
             ],
             [
              0.3333333333333333,
              "#9c179e"
             ],
             [
              0.4444444444444444,
              "#bd3786"
             ],
             [
              0.5555555555555556,
              "#d8576b"
             ],
             [
              0.6666666666666666,
              "#ed7953"
             ],
             [
              0.7777777777777778,
              "#fb9f3a"
             ],
             [
              0.8888888888888888,
              "#fdca26"
             ],
             [
              1,
              "#f0f921"
             ]
            ],
            "type": "heatmapgl"
           }
          ],
          "histogram": [
           {
            "marker": {
             "pattern": {
              "fillmode": "overlay",
              "size": 10,
              "solidity": 0.2
             }
            },
            "type": "histogram"
           }
          ],
          "histogram2d": [
           {
            "colorbar": {
             "outlinewidth": 0,
             "ticks": ""
            },
            "colorscale": [
             [
              0,
              "#0d0887"
             ],
             [
              0.1111111111111111,
              "#46039f"
             ],
             [
              0.2222222222222222,
              "#7201a8"
             ],
             [
              0.3333333333333333,
              "#9c179e"
             ],
             [
              0.4444444444444444,
              "#bd3786"
             ],
             [
              0.5555555555555556,
              "#d8576b"
             ],
             [
              0.6666666666666666,
              "#ed7953"
             ],
             [
              0.7777777777777778,
              "#fb9f3a"
             ],
             [
              0.8888888888888888,
              "#fdca26"
             ],
             [
              1,
              "#f0f921"
             ]
            ],
            "type": "histogram2d"
           }
          ],
          "histogram2dcontour": [
           {
            "colorbar": {
             "outlinewidth": 0,
             "ticks": ""
            },
            "colorscale": [
             [
              0,
              "#0d0887"
             ],
             [
              0.1111111111111111,
              "#46039f"
             ],
             [
              0.2222222222222222,
              "#7201a8"
             ],
             [
              0.3333333333333333,
              "#9c179e"
             ],
             [
              0.4444444444444444,
              "#bd3786"
             ],
             [
              0.5555555555555556,
              "#d8576b"
             ],
             [
              0.6666666666666666,
              "#ed7953"
             ],
             [
              0.7777777777777778,
              "#fb9f3a"
             ],
             [
              0.8888888888888888,
              "#fdca26"
             ],
             [
              1,
              "#f0f921"
             ]
            ],
            "type": "histogram2dcontour"
           }
          ],
          "mesh3d": [
           {
            "colorbar": {
             "outlinewidth": 0,
             "ticks": ""
            },
            "type": "mesh3d"
           }
          ],
          "parcoords": [
           {
            "line": {
             "colorbar": {
              "outlinewidth": 0,
              "ticks": ""
             }
            },
            "type": "parcoords"
           }
          ],
          "pie": [
           {
            "automargin": true,
            "type": "pie"
           }
          ],
          "scatter": [
           {
            "fillpattern": {
             "fillmode": "overlay",
             "size": 10,
             "solidity": 0.2
            },
            "type": "scatter"
           }
          ],
          "scatter3d": [
           {
            "line": {
             "colorbar": {
              "outlinewidth": 0,
              "ticks": ""
             }
            },
            "marker": {
             "colorbar": {
              "outlinewidth": 0,
              "ticks": ""
             }
            },
            "type": "scatter3d"
           }
          ],
          "scattercarpet": [
           {
            "marker": {
             "colorbar": {
              "outlinewidth": 0,
              "ticks": ""
             }
            },
            "type": "scattercarpet"
           }
          ],
          "scattergeo": [
           {
            "marker": {
             "colorbar": {
              "outlinewidth": 0,
              "ticks": ""
             }
            },
            "type": "scattergeo"
           }
          ],
          "scattergl": [
           {
            "marker": {
             "colorbar": {
              "outlinewidth": 0,
              "ticks": ""
             }
            },
            "type": "scattergl"
           }
          ],
          "scattermapbox": [
           {
            "marker": {
             "colorbar": {
              "outlinewidth": 0,
              "ticks": ""
             }
            },
            "type": "scattermapbox"
           }
          ],
          "scatterpolar": [
           {
            "marker": {
             "colorbar": {
              "outlinewidth": 0,
              "ticks": ""
             }
            },
            "type": "scatterpolar"
           }
          ],
          "scatterpolargl": [
           {
            "marker": {
             "colorbar": {
              "outlinewidth": 0,
              "ticks": ""
             }
            },
            "type": "scatterpolargl"
           }
          ],
          "scatterternary": [
           {
            "marker": {
             "colorbar": {
              "outlinewidth": 0,
              "ticks": ""
             }
            },
            "type": "scatterternary"
           }
          ],
          "surface": [
           {
            "colorbar": {
             "outlinewidth": 0,
             "ticks": ""
            },
            "colorscale": [
             [
              0,
              "#0d0887"
             ],
             [
              0.1111111111111111,
              "#46039f"
             ],
             [
              0.2222222222222222,
              "#7201a8"
             ],
             [
              0.3333333333333333,
              "#9c179e"
             ],
             [
              0.4444444444444444,
              "#bd3786"
             ],
             [
              0.5555555555555556,
              "#d8576b"
             ],
             [
              0.6666666666666666,
              "#ed7953"
             ],
             [
              0.7777777777777778,
              "#fb9f3a"
             ],
             [
              0.8888888888888888,
              "#fdca26"
             ],
             [
              1,
              "#f0f921"
             ]
            ],
            "type": "surface"
           }
          ],
          "table": [
           {
            "cells": {
             "fill": {
              "color": "#EBF0F8"
             },
             "line": {
              "color": "white"
             }
            },
            "header": {
             "fill": {
              "color": "#C8D4E3"
             },
             "line": {
              "color": "white"
             }
            },
            "type": "table"
           }
          ]
         },
         "layout": {
          "annotationdefaults": {
           "arrowcolor": "#2a3f5f",
           "arrowhead": 0,
           "arrowwidth": 1
          },
          "autotypenumbers": "strict",
          "coloraxis": {
           "colorbar": {
            "outlinewidth": 0,
            "ticks": ""
           }
          },
          "colorscale": {
           "diverging": [
            [
             0,
             "#8e0152"
            ],
            [
             0.1,
             "#c51b7d"
            ],
            [
             0.2,
             "#de77ae"
            ],
            [
             0.3,
             "#f1b6da"
            ],
            [
             0.4,
             "#fde0ef"
            ],
            [
             0.5,
             "#f7f7f7"
            ],
            [
             0.6,
             "#e6f5d0"
            ],
            [
             0.7,
             "#b8e186"
            ],
            [
             0.8,
             "#7fbc41"
            ],
            [
             0.9,
             "#4d9221"
            ],
            [
             1,
             "#276419"
            ]
           ],
           "sequential": [
            [
             0,
             "#0d0887"
            ],
            [
             0.1111111111111111,
             "#46039f"
            ],
            [
             0.2222222222222222,
             "#7201a8"
            ],
            [
             0.3333333333333333,
             "#9c179e"
            ],
            [
             0.4444444444444444,
             "#bd3786"
            ],
            [
             0.5555555555555556,
             "#d8576b"
            ],
            [
             0.6666666666666666,
             "#ed7953"
            ],
            [
             0.7777777777777778,
             "#fb9f3a"
            ],
            [
             0.8888888888888888,
             "#fdca26"
            ],
            [
             1,
             "#f0f921"
            ]
           ],
           "sequentialminus": [
            [
             0,
             "#0d0887"
            ],
            [
             0.1111111111111111,
             "#46039f"
            ],
            [
             0.2222222222222222,
             "#7201a8"
            ],
            [
             0.3333333333333333,
             "#9c179e"
            ],
            [
             0.4444444444444444,
             "#bd3786"
            ],
            [
             0.5555555555555556,
             "#d8576b"
            ],
            [
             0.6666666666666666,
             "#ed7953"
            ],
            [
             0.7777777777777778,
             "#fb9f3a"
            ],
            [
             0.8888888888888888,
             "#fdca26"
            ],
            [
             1,
             "#f0f921"
            ]
           ]
          },
          "colorway": [
           "#636efa",
           "#EF553B",
           "#00cc96",
           "#ab63fa",
           "#FFA15A",
           "#19d3f3",
           "#FF6692",
           "#B6E880",
           "#FF97FF",
           "#FECB52"
          ],
          "font": {
           "color": "#2a3f5f"
          },
          "geo": {
           "bgcolor": "white",
           "lakecolor": "white",
           "landcolor": "#E5ECF6",
           "showlakes": true,
           "showland": true,
           "subunitcolor": "white"
          },
          "hoverlabel": {
           "align": "left"
          },
          "hovermode": "closest",
          "mapbox": {
           "style": "light"
          },
          "paper_bgcolor": "white",
          "plot_bgcolor": "#E5ECF6",
          "polar": {
           "angularaxis": {
            "gridcolor": "white",
            "linecolor": "white",
            "ticks": ""
           },
           "bgcolor": "#E5ECF6",
           "radialaxis": {
            "gridcolor": "white",
            "linecolor": "white",
            "ticks": ""
           }
          },
          "scene": {
           "xaxis": {
            "backgroundcolor": "#E5ECF6",
            "gridcolor": "white",
            "gridwidth": 2,
            "linecolor": "white",
            "showbackground": true,
            "ticks": "",
            "zerolinecolor": "white"
           },
           "yaxis": {
            "backgroundcolor": "#E5ECF6",
            "gridcolor": "white",
            "gridwidth": 2,
            "linecolor": "white",
            "showbackground": true,
            "ticks": "",
            "zerolinecolor": "white"
           },
           "zaxis": {
            "backgroundcolor": "#E5ECF6",
            "gridcolor": "white",
            "gridwidth": 2,
            "linecolor": "white",
            "showbackground": true,
            "ticks": "",
            "zerolinecolor": "white"
           }
          },
          "shapedefaults": {
           "line": {
            "color": "#2a3f5f"
           }
          },
          "ternary": {
           "aaxis": {
            "gridcolor": "white",
            "linecolor": "white",
            "ticks": ""
           },
           "baxis": {
            "gridcolor": "white",
            "linecolor": "white",
            "ticks": ""
           },
           "bgcolor": "#E5ECF6",
           "caxis": {
            "gridcolor": "white",
            "linecolor": "white",
            "ticks": ""
           }
          },
          "title": {
           "x": 0.05
          },
          "xaxis": {
           "automargin": true,
           "gridcolor": "white",
           "linecolor": "white",
           "ticks": "",
           "title": {
            "standoff": 15
           },
           "zerolinecolor": "white",
           "zerolinewidth": 2
          },
          "yaxis": {
           "automargin": true,
           "gridcolor": "white",
           "linecolor": "white",
           "ticks": "",
           "title": {
            "standoff": 15
           },
           "zerolinecolor": "white",
           "zerolinewidth": 2
          }
         }
        },
        "title": {
         "font": {
          "color": "#C44E52",
          "size": 22
         },
         "text": "Encontrar el número correcto de clusters con robust escaler",
         "x": 0.5,
         "xanchor": "center",
         "yanchor": "top"
        },
        "xaxis": {
         "anchor": "y",
         "domain": [
          0,
          1
         ],
         "title": {
          "text": "N° de Clusters"
         }
        },
        "yaxis": {
         "anchor": "x",
         "domain": [
          0,
          1
         ],
         "title": {
          "text": "WCSS"
         }
        }
       }
      }
     },
     "metadata": {},
     "output_type": "display_data"
    }
   ],
   "source": [
    "plot_wscc(scalers,8)"
   ]
  },
  {
   "cell_type": "code",
   "execution_count": 249,
   "metadata": {},
   "outputs": [
    {
     "data": {
      "text/plain": [
       "array([3, 4, 4, 3, 2, 3, 3, 2, 2, 3, 1, 0, 7, 4, 2, 2, 4, 3, 3, 3, 1, 1,\n",
       "       3, 2, 6, 4, 4, 2, 1, 3, 2, 2, 2, 2, 6, 2, 2, 2, 4, 1, 1, 3, 1, 3,\n",
       "       3, 4, 4, 4, 1, 1, 4, 0, 0, 4, 3, 4, 3, 7, 7, 1, 1, 7, 7, 1, 6, 6,\n",
       "       7, 7, 7, 7, 7, 0, 7, 1, 1, 1, 5, 5, 5, 5, 5, 5, 5, 5, 5, 5, 5, 5,\n",
       "       5, 5, 5, 7, 7, 6, 2, 1, 1, 7, 7, 1, 7, 6, 7, 7, 7, 7, 7, 0, 1, 1,\n",
       "       1, 0, 1, 1, 6, 7, 7, 7, 1, 1, 0, 7, 6, 6, 6, 1, 7, 6, 6])"
      ]
     },
     "execution_count": 249,
     "metadata": {},
     "output_type": "execute_result"
    }
   ],
   "source": [
    "# Implementación del modelo K-Means\n",
    "# Aplicando el Algoritmo de K-Means\n",
    "kmeans = KMeans(8)\n",
    "kmeans.fit(df_robust_scaled)\n",
    "labels = kmeans.labels_\n",
    "# Etiquetas del clúster asociados a cada observación\n",
    "labels"
   ]
  },
  {
   "cell_type": "code",
   "execution_count": 250,
   "metadata": {},
   "outputs": [
    {
     "data": {
      "text/plain": [
       "(8, 39)"
      ]
     },
     "execution_count": 250,
     "metadata": {},
     "output_type": "execute_result"
    }
   ],
   "source": [
    "# Dimension del dataframe formado por los baricentros de los clusters\n",
    "kmeans.cluster_centers_.shape"
   ]
  },
  {
   "attachments": {},
   "cell_type": "markdown",
   "metadata": {},
   "source": [
    "Generación de un dataframe con los centroides de los **7 clusters** y recordemos que estos resultados están escalados con ``RobustScaler()``. Así mismo, realizaremos una tranformación inversa para poder volver a los valores originales del dataset a través del patrón del algoritmo del metodo de escalado para tener un mejor entendimiento de lo registros que ocupan los centroides en la escala original."
   ]
  },
  {
   "cell_type": "code",
   "execution_count": 251,
   "metadata": {},
   "outputs": [],
   "source": [
    "# Dataframe de centroides de los dosclusters con datos escalados usando el método Standard Scaler\n",
    "cc_robust = pd.DataFrame(data=kmeans.cluster_centers_, columns=[df.columns])\n",
    "# Dataframe de centroides de los dosclusters con datos transformados al original del escalado con Standard Scaler\n",
    "cc_robust_inv_transf = pd.DataFrame(data=std_scaler.inverse_transform(cc_robust), columns=[df.columns])"
   ]
  },
  {
   "cell_type": "code",
   "execution_count": 252,
   "metadata": {},
   "outputs": [
    {
     "data": {
      "text/html": [
       "<div>\n",
       "<style scoped>\n",
       "    .dataframe tbody tr th:only-of-type {\n",
       "        vertical-align: middle;\n",
       "    }\n",
       "\n",
       "    .dataframe tbody tr th {\n",
       "        vertical-align: top;\n",
       "    }\n",
       "\n",
       "    .dataframe thead tr th {\n",
       "        text-align: left;\n",
       "    }\n",
       "</style>\n",
       "<table border=\"1\" class=\"dataframe\">\n",
       "  <thead>\n",
       "    <tr>\n",
       "      <th></th>\n",
       "      <th>hospital_expire_flag</th>\n",
       "      <th>elective</th>\n",
       "      <th>emergency</th>\n",
       "      <th>urgent</th>\n",
       "      <th>government</th>\n",
       "      <th>medicaid</th>\n",
       "      <th>medicare</th>\n",
       "      <th>private</th>\n",
       "      <th>english</th>\n",
       "      <th>mandarin</th>\n",
       "      <th>...</th>\n",
       "      <th>widowed</th>\n",
       "      <th>amererican indian</th>\n",
       "      <th>asian</th>\n",
       "      <th>black afri_amer</th>\n",
       "      <th>hisp latin</th>\n",
       "      <th>other unk_ns una_obt</th>\n",
       "      <th>puerto rican</th>\n",
       "      <th>white</th>\n",
       "      <th>f</th>\n",
       "      <th>m</th>\n",
       "    </tr>\n",
       "  </thead>\n",
       "  <tbody>\n",
       "    <tr>\n",
       "      <th>0</th>\n",
       "      <td>0.571429</td>\n",
       "      <td>0.000000</td>\n",
       "      <td>1.387779e-17</td>\n",
       "      <td>0.000000e+00</td>\n",
       "      <td>0.000000</td>\n",
       "      <td>0.000000e+00</td>\n",
       "      <td>0.000000</td>\n",
       "      <td>0.000000</td>\n",
       "      <td>1.428571e-01</td>\n",
       "      <td>0.000000</td>\n",
       "      <td>...</td>\n",
       "      <td>5.714286e-01</td>\n",
       "      <td>0.000000</td>\n",
       "      <td>0.000000</td>\n",
       "      <td>6.938894e-18</td>\n",
       "      <td>0.000000e+00</td>\n",
       "      <td>0.000000e+00</td>\n",
       "      <td>0.000000e+00</td>\n",
       "      <td>-5.551115e-17</td>\n",
       "      <td>8.571429e-01</td>\n",
       "      <td>-8.571429e-01</td>\n",
       "    </tr>\n",
       "    <tr>\n",
       "      <th>1</th>\n",
       "      <td>0.346154</td>\n",
       "      <td>0.038462</td>\n",
       "      <td>-3.846154e-02</td>\n",
       "      <td>-1.214306e-17</td>\n",
       "      <td>0.038462</td>\n",
       "      <td>7.692308e-02</td>\n",
       "      <td>-0.230769</td>\n",
       "      <td>0.115385</td>\n",
       "      <td>7.307692e-01</td>\n",
       "      <td>0.038462</td>\n",
       "      <td>...</td>\n",
       "      <td>-8.326673e-17</td>\n",
       "      <td>0.076923</td>\n",
       "      <td>0.038462</td>\n",
       "      <td>3.846154e-02</td>\n",
       "      <td>-1.214306e-17</td>\n",
       "      <td>-8.326673e-17</td>\n",
       "      <td>-8.326673e-17</td>\n",
       "      <td>-1.538462e-01</td>\n",
       "      <td>-3.330669e-16</td>\n",
       "      <td>3.330669e-16</td>\n",
       "    </tr>\n",
       "    <tr>\n",
       "      <th>2</th>\n",
       "      <td>0.400000</td>\n",
       "      <td>0.000000</td>\n",
       "      <td>0.000000e+00</td>\n",
       "      <td>0.000000e+00</td>\n",
       "      <td>0.000000</td>\n",
       "      <td>1.387779e-17</td>\n",
       "      <td>-0.066667</td>\n",
       "      <td>0.066667</td>\n",
       "      <td>6.666667e-02</td>\n",
       "      <td>0.000000</td>\n",
       "      <td>...</td>\n",
       "      <td>2.000000e-01</td>\n",
       "      <td>0.000000</td>\n",
       "      <td>0.000000</td>\n",
       "      <td>1.333333e-01</td>\n",
       "      <td>0.000000e+00</td>\n",
       "      <td>6.666667e-02</td>\n",
       "      <td>0.000000e+00</td>\n",
       "      <td>-2.000000e-01</td>\n",
       "      <td>0.000000e+00</td>\n",
       "      <td>0.000000e+00</td>\n",
       "    </tr>\n",
       "    <tr>\n",
       "      <th>3</th>\n",
       "      <td>0.200000</td>\n",
       "      <td>0.066667</td>\n",
       "      <td>-1.333333e-01</td>\n",
       "      <td>6.666667e-02</td>\n",
       "      <td>0.000000</td>\n",
       "      <td>6.666667e-02</td>\n",
       "      <td>-0.133333</td>\n",
       "      <td>0.066667</td>\n",
       "      <td>5.551115e-17</td>\n",
       "      <td>0.000000</td>\n",
       "      <td>...</td>\n",
       "      <td>1.333333e-01</td>\n",
       "      <td>0.000000</td>\n",
       "      <td>0.066667</td>\n",
       "      <td>1.333333e-01</td>\n",
       "      <td>0.000000e+00</td>\n",
       "      <td>0.000000e+00</td>\n",
       "      <td>0.000000e+00</td>\n",
       "      <td>-2.000000e-01</td>\n",
       "      <td>1.000000e+00</td>\n",
       "      <td>-1.000000e+00</td>\n",
       "    </tr>\n",
       "    <tr>\n",
       "      <th>4</th>\n",
       "      <td>0.615385</td>\n",
       "      <td>0.000000</td>\n",
       "      <td>-7.692308e-02</td>\n",
       "      <td>7.692308e-02</td>\n",
       "      <td>0.000000</td>\n",
       "      <td>1.538462e-01</td>\n",
       "      <td>-0.769231</td>\n",
       "      <td>0.615385</td>\n",
       "      <td>0.000000e+00</td>\n",
       "      <td>0.000000</td>\n",
       "      <td>...</td>\n",
       "      <td>-1.387779e-17</td>\n",
       "      <td>0.000000</td>\n",
       "      <td>0.000000</td>\n",
       "      <td>0.000000e+00</td>\n",
       "      <td>0.000000e+00</td>\n",
       "      <td>9.230769e-01</td>\n",
       "      <td>-1.387779e-17</td>\n",
       "      <td>-9.230769e-01</td>\n",
       "      <td>7.692308e-01</td>\n",
       "      <td>-7.692308e-01</td>\n",
       "    </tr>\n",
       "  </tbody>\n",
       "</table>\n",
       "<p>5 rows × 39 columns</p>\n",
       "</div>"
      ],
      "text/plain": [
       "  hospital_expire_flag  elective     emergency        urgent government  \\\n",
       "0             0.571429  0.000000  1.387779e-17  0.000000e+00   0.000000   \n",
       "1             0.346154  0.038462 -3.846154e-02 -1.214306e-17   0.038462   \n",
       "2             0.400000  0.000000  0.000000e+00  0.000000e+00   0.000000   \n",
       "3             0.200000  0.066667 -1.333333e-01  6.666667e-02   0.000000   \n",
       "4             0.615385  0.000000 -7.692308e-02  7.692308e-02   0.000000   \n",
       "\n",
       "       medicaid  medicare   private       english  mandarin  ...  \\\n",
       "0  0.000000e+00  0.000000  0.000000  1.428571e-01  0.000000  ...   \n",
       "1  7.692308e-02 -0.230769  0.115385  7.307692e-01  0.038462  ...   \n",
       "2  1.387779e-17 -0.066667  0.066667  6.666667e-02  0.000000  ...   \n",
       "3  6.666667e-02 -0.133333  0.066667  5.551115e-17  0.000000  ...   \n",
       "4  1.538462e-01 -0.769231  0.615385  0.000000e+00  0.000000  ...   \n",
       "\n",
       "        widowed amererican indian     asian black afri_amer    hisp latin  \\\n",
       "0  5.714286e-01          0.000000  0.000000    6.938894e-18  0.000000e+00   \n",
       "1 -8.326673e-17          0.076923  0.038462    3.846154e-02 -1.214306e-17   \n",
       "2  2.000000e-01          0.000000  0.000000    1.333333e-01  0.000000e+00   \n",
       "3  1.333333e-01          0.000000  0.066667    1.333333e-01  0.000000e+00   \n",
       "4 -1.387779e-17          0.000000  0.000000    0.000000e+00  0.000000e+00   \n",
       "\n",
       "  other unk_ns una_obt  puerto rican         white             f             m  \n",
       "0         0.000000e+00  0.000000e+00 -5.551115e-17  8.571429e-01 -8.571429e-01  \n",
       "1        -8.326673e-17 -8.326673e-17 -1.538462e-01 -3.330669e-16  3.330669e-16  \n",
       "2         6.666667e-02  0.000000e+00 -2.000000e-01  0.000000e+00  0.000000e+00  \n",
       "3         0.000000e+00  0.000000e+00 -2.000000e-01  1.000000e+00 -1.000000e+00  \n",
       "4         9.230769e-01 -1.387779e-17 -9.230769e-01  7.692308e-01 -7.692308e-01  \n",
       "\n",
       "[5 rows x 39 columns]"
      ]
     },
     "execution_count": 252,
     "metadata": {},
     "output_type": "execute_result"
    }
   ],
   "source": [
    "cc_robust.head()"
   ]
  },
  {
   "cell_type": "code",
   "execution_count": 253,
   "metadata": {},
   "outputs": [
    {
     "data": {
      "text/html": [
       "<div>\n",
       "<style scoped>\n",
       "    .dataframe tbody tr th:only-of-type {\n",
       "        vertical-align: middle;\n",
       "    }\n",
       "\n",
       "    .dataframe tbody tr th {\n",
       "        vertical-align: top;\n",
       "    }\n",
       "\n",
       "    .dataframe thead tr th {\n",
       "        text-align: left;\n",
       "    }\n",
       "</style>\n",
       "<table border=\"1\" class=\"dataframe\">\n",
       "  <thead>\n",
       "    <tr>\n",
       "      <th></th>\n",
       "      <th>hospital_expire_flag</th>\n",
       "      <th>elective</th>\n",
       "      <th>emergency</th>\n",
       "      <th>urgent</th>\n",
       "      <th>government</th>\n",
       "      <th>medicaid</th>\n",
       "      <th>medicare</th>\n",
       "      <th>private</th>\n",
       "      <th>english</th>\n",
       "      <th>mandarin</th>\n",
       "      <th>...</th>\n",
       "      <th>widowed</th>\n",
       "      <th>amererican indian</th>\n",
       "      <th>asian</th>\n",
       "      <th>black afri_amer</th>\n",
       "      <th>hisp latin</th>\n",
       "      <th>other unk_ns una_obt</th>\n",
       "      <th>puerto rican</th>\n",
       "      <th>white</th>\n",
       "      <th>f</th>\n",
       "      <th>m</th>\n",
       "    </tr>\n",
       "  </thead>\n",
       "  <tbody>\n",
       "    <tr>\n",
       "      <th>0</th>\n",
       "      <td>0.574378</td>\n",
       "      <td>0.062016</td>\n",
       "      <td>0.922481</td>\n",
       "      <td>0.015504</td>\n",
       "      <td>0.007752</td>\n",
       "      <td>0.046512</td>\n",
       "      <td>0.759690</td>\n",
       "      <td>0.186047</td>\n",
       "      <td>0.520677</td>\n",
       "      <td>0.007752</td>\n",
       "      <td>...</td>\n",
       "      <td>0.299456</td>\n",
       "      <td>0.015504</td>\n",
       "      <td>0.015504</td>\n",
       "      <td>0.054264</td>\n",
       "      <td>0.015504</td>\n",
       "      <td>0.116279</td>\n",
       "      <td>0.116279</td>\n",
       "      <td>0.666667</td>\n",
       "      <td>0.884375</td>\n",
       "      <td>0.115625</td>\n",
       "    </tr>\n",
       "    <tr>\n",
       "      <th>1</th>\n",
       "      <td>0.470182</td>\n",
       "      <td>0.071292</td>\n",
       "      <td>0.912195</td>\n",
       "      <td>0.015504</td>\n",
       "      <td>0.011125</td>\n",
       "      <td>0.062711</td>\n",
       "      <td>0.661089</td>\n",
       "      <td>0.230948</td>\n",
       "      <td>0.813137</td>\n",
       "      <td>0.011125</td>\n",
       "      <td>...</td>\n",
       "      <td>0.116279</td>\n",
       "      <td>0.025007</td>\n",
       "      <td>0.020256</td>\n",
       "      <td>0.062977</td>\n",
       "      <td>0.015504</td>\n",
       "      <td>0.116279</td>\n",
       "      <td>0.116279</td>\n",
       "      <td>0.594143</td>\n",
       "      <td>0.457364</td>\n",
       "      <td>0.542636</td>\n",
       "    </tr>\n",
       "    <tr>\n",
       "      <th>2</th>\n",
       "      <td>0.495088</td>\n",
       "      <td>0.062016</td>\n",
       "      <td>0.922481</td>\n",
       "      <td>0.015504</td>\n",
       "      <td>0.007752</td>\n",
       "      <td>0.046512</td>\n",
       "      <td>0.731205</td>\n",
       "      <td>0.211989</td>\n",
       "      <td>0.482776</td>\n",
       "      <td>0.007752</td>\n",
       "      <td>...</td>\n",
       "      <td>0.180391</td>\n",
       "      <td>0.015504</td>\n",
       "      <td>0.015504</td>\n",
       "      <td>0.084469</td>\n",
       "      <td>0.015504</td>\n",
       "      <td>0.137650</td>\n",
       "      <td>0.116279</td>\n",
       "      <td>0.572386</td>\n",
       "      <td>0.457364</td>\n",
       "      <td>0.542636</td>\n",
       "    </tr>\n",
       "    <tr>\n",
       "      <th>3</th>\n",
       "      <td>0.402583</td>\n",
       "      <td>0.078094</td>\n",
       "      <td>0.886825</td>\n",
       "      <td>0.023740</td>\n",
       "      <td>0.007752</td>\n",
       "      <td>0.060551</td>\n",
       "      <td>0.702720</td>\n",
       "      <td>0.211989</td>\n",
       "      <td>0.449612</td>\n",
       "      <td>0.007752</td>\n",
       "      <td>...</td>\n",
       "      <td>0.159020</td>\n",
       "      <td>0.015504</td>\n",
       "      <td>0.023740</td>\n",
       "      <td>0.084469</td>\n",
       "      <td>0.015504</td>\n",
       "      <td>0.116279</td>\n",
       "      <td>0.116279</td>\n",
       "      <td>0.572386</td>\n",
       "      <td>0.955543</td>\n",
       "      <td>0.044457</td>\n",
       "    </tr>\n",
       "    <tr>\n",
       "      <th>4</th>\n",
       "      <td>0.594708</td>\n",
       "      <td>0.062016</td>\n",
       "      <td>0.901910</td>\n",
       "      <td>0.025007</td>\n",
       "      <td>0.007752</td>\n",
       "      <td>0.078910</td>\n",
       "      <td>0.431019</td>\n",
       "      <td>0.425520</td>\n",
       "      <td>0.449612</td>\n",
       "      <td>0.007752</td>\n",
       "      <td>...</td>\n",
       "      <td>0.116279</td>\n",
       "      <td>0.015504</td>\n",
       "      <td>0.015504</td>\n",
       "      <td>0.054264</td>\n",
       "      <td>0.015504</td>\n",
       "      <td>0.412180</td>\n",
       "      <td>0.116279</td>\n",
       "      <td>0.231524</td>\n",
       "      <td>0.840579</td>\n",
       "      <td>0.159421</td>\n",
       "    </tr>\n",
       "    <tr>\n",
       "      <th>5</th>\n",
       "      <td>0.310078</td>\n",
       "      <td>0.062016</td>\n",
       "      <td>0.922481</td>\n",
       "      <td>0.015504</td>\n",
       "      <td>0.007752</td>\n",
       "      <td>0.046512</td>\n",
       "      <td>0.759690</td>\n",
       "      <td>0.186047</td>\n",
       "      <td>0.449612</td>\n",
       "      <td>0.007752</td>\n",
       "      <td>...</td>\n",
       "      <td>0.116279</td>\n",
       "      <td>0.015504</td>\n",
       "      <td>0.015504</td>\n",
       "      <td>0.054264</td>\n",
       "      <td>0.015504</td>\n",
       "      <td>0.116279</td>\n",
       "      <td>0.436838</td>\n",
       "      <td>0.195262</td>\n",
       "      <td>0.457364</td>\n",
       "      <td>0.542636</td>\n",
       "    </tr>\n",
       "    <tr>\n",
       "      <th>6</th>\n",
       "      <td>0.387165</td>\n",
       "      <td>0.122311</td>\n",
       "      <td>0.855627</td>\n",
       "      <td>0.015504</td>\n",
       "      <td>0.007752</td>\n",
       "      <td>0.064061</td>\n",
       "      <td>0.368024</td>\n",
       "      <td>0.510333</td>\n",
       "      <td>0.947067</td>\n",
       "      <td>0.007752</td>\n",
       "      <td>...</td>\n",
       "      <td>0.116279</td>\n",
       "      <td>0.015504</td>\n",
       "      <td>0.015504</td>\n",
       "      <td>0.054264</td>\n",
       "      <td>0.015504</td>\n",
       "      <td>0.116279</td>\n",
       "      <td>0.116279</td>\n",
       "      <td>0.666667</td>\n",
       "      <td>0.540394</td>\n",
       "      <td>0.459606</td>\n",
       "    </tr>\n",
       "    <tr>\n",
       "      <th>7</th>\n",
       "      <td>0.452393</td>\n",
       "      <td>0.089844</td>\n",
       "      <td>0.891625</td>\n",
       "      <td>0.015504</td>\n",
       "      <td>0.007752</td>\n",
       "      <td>0.046512</td>\n",
       "      <td>0.743256</td>\n",
       "      <td>0.201014</td>\n",
       "      <td>0.927934</td>\n",
       "      <td>0.007752</td>\n",
       "      <td>...</td>\n",
       "      <td>0.190254</td>\n",
       "      <td>0.015504</td>\n",
       "      <td>0.015504</td>\n",
       "      <td>0.071689</td>\n",
       "      <td>0.025007</td>\n",
       "      <td>0.140937</td>\n",
       "      <td>0.116279</td>\n",
       "      <td>0.557881</td>\n",
       "      <td>0.955543</td>\n",
       "      <td>0.044457</td>\n",
       "    </tr>\n",
       "  </tbody>\n",
       "</table>\n",
       "<p>8 rows × 39 columns</p>\n",
       "</div>"
      ],
      "text/plain": [
       "  hospital_expire_flag  elective emergency    urgent government  medicaid  \\\n",
       "0             0.574378  0.062016  0.922481  0.015504   0.007752  0.046512   \n",
       "1             0.470182  0.071292  0.912195  0.015504   0.011125  0.062711   \n",
       "2             0.495088  0.062016  0.922481  0.015504   0.007752  0.046512   \n",
       "3             0.402583  0.078094  0.886825  0.023740   0.007752  0.060551   \n",
       "4             0.594708  0.062016  0.901910  0.025007   0.007752  0.078910   \n",
       "5             0.310078  0.062016  0.922481  0.015504   0.007752  0.046512   \n",
       "6             0.387165  0.122311  0.855627  0.015504   0.007752  0.064061   \n",
       "7             0.452393  0.089844  0.891625  0.015504   0.007752  0.046512   \n",
       "\n",
       "   medicare   private   english  mandarin  ...   widowed amererican indian  \\\n",
       "0  0.759690  0.186047  0.520677  0.007752  ...  0.299456          0.015504   \n",
       "1  0.661089  0.230948  0.813137  0.011125  ...  0.116279          0.025007   \n",
       "2  0.731205  0.211989  0.482776  0.007752  ...  0.180391          0.015504   \n",
       "3  0.702720  0.211989  0.449612  0.007752  ...  0.159020          0.015504   \n",
       "4  0.431019  0.425520  0.449612  0.007752  ...  0.116279          0.015504   \n",
       "5  0.759690  0.186047  0.449612  0.007752  ...  0.116279          0.015504   \n",
       "6  0.368024  0.510333  0.947067  0.007752  ...  0.116279          0.015504   \n",
       "7  0.743256  0.201014  0.927934  0.007752  ...  0.190254          0.015504   \n",
       "\n",
       "      asian black afri_amer hisp latin other unk_ns una_obt puerto rican  \\\n",
       "0  0.015504        0.054264   0.015504             0.116279     0.116279   \n",
       "1  0.020256        0.062977   0.015504             0.116279     0.116279   \n",
       "2  0.015504        0.084469   0.015504             0.137650     0.116279   \n",
       "3  0.023740        0.084469   0.015504             0.116279     0.116279   \n",
       "4  0.015504        0.054264   0.015504             0.412180     0.116279   \n",
       "5  0.015504        0.054264   0.015504             0.116279     0.436838   \n",
       "6  0.015504        0.054264   0.015504             0.116279     0.116279   \n",
       "7  0.015504        0.071689   0.025007             0.140937     0.116279   \n",
       "\n",
       "      white         f         m  \n",
       "0  0.666667  0.884375  0.115625  \n",
       "1  0.594143  0.457364  0.542636  \n",
       "2  0.572386  0.457364  0.542636  \n",
       "3  0.572386  0.955543  0.044457  \n",
       "4  0.231524  0.840579  0.159421  \n",
       "5  0.195262  0.457364  0.542636  \n",
       "6  0.666667  0.540394  0.459606  \n",
       "7  0.557881  0.955543  0.044457  \n",
       "\n",
       "[8 rows x 39 columns]"
      ]
     },
     "execution_count": 253,
     "metadata": {},
     "output_type": "execute_result"
    }
   ],
   "source": [
    "cc_robust_inv_transf"
   ]
  },
  {
   "attachments": {},
   "cell_type": "markdown",
   "metadata": {},
   "source": [
    "Ahora bien, si nos llegara un nuevo cpaciente y queremos catalogar o clasificar dentro de los **6 grupos/clusters** que hemos modelado podemos hacerlo directamente usando el método ``.fit_predict()`` del algoritmo de K-Means."
   ]
  },
  {
   "cell_type": "code",
   "execution_count": 254,
   "metadata": {},
   "outputs": [
    {
     "data": {
      "text/plain": [
       "array([6, 4, 4, 6, 0, 6, 6, 0, 0, 6, 0, 6, 7, 4, 0, 0, 4, 6, 6, 6, 0, 0,\n",
       "       6, 0, 5, 4, 4, 0, 1, 6, 0, 0, 0, 0, 5, 0, 0, 0, 4, 0, 0, 6, 0, 6,\n",
       "       6, 4, 4, 4, 1, 1, 4, 7, 7, 4, 6, 4, 6, 2, 2, 1, 1, 7, 7, 1, 5, 5,\n",
       "       7, 7, 7, 7, 2, 7, 7, 1, 1, 1, 3, 3, 3, 3, 3, 3, 3, 3, 3, 3, 3, 3,\n",
       "       3, 3, 3, 7, 7, 5, 0, 1, 1, 7, 7, 1, 2, 5, 2, 7, 2, 2, 7, 1, 1, 1,\n",
       "       1, 7, 1, 1, 5, 2, 7, 7, 1, 1, 7, 7, 5, 5, 5, 1, 2, 5, 2])"
      ]
     },
     "execution_count": 254,
     "metadata": {},
     "output_type": "execute_result"
    }
   ],
   "source": [
    "y_kmeans = kmeans.fit_predict(df_robust_scaled)\n",
    "y_kmeans"
   ]
  },
  {
   "attachments": {},
   "cell_type": "markdown",
   "metadata": {},
   "source": [
    "Agregamos una etiqueta (qúe cluster) correspondiente a cada punto de los datos."
   ]
  },
  {
   "cell_type": "code",
   "execution_count": 255,
   "metadata": {},
   "outputs": [
    {
     "data": {
      "text/html": [
       "<div>\n",
       "<style scoped>\n",
       "    .dataframe tbody tr th:only-of-type {\n",
       "        vertical-align: middle;\n",
       "    }\n",
       "\n",
       "    .dataframe tbody tr th {\n",
       "        vertical-align: top;\n",
       "    }\n",
       "\n",
       "    .dataframe thead th {\n",
       "        text-align: right;\n",
       "    }\n",
       "</style>\n",
       "<table border=\"1\" class=\"dataframe\">\n",
       "  <thead>\n",
       "    <tr style=\"text-align: right;\">\n",
       "      <th></th>\n",
       "      <th>hospital_expire_flag</th>\n",
       "      <th>elective</th>\n",
       "      <th>emergency</th>\n",
       "      <th>urgent</th>\n",
       "      <th>government</th>\n",
       "      <th>medicaid</th>\n",
       "      <th>medicare</th>\n",
       "      <th>private</th>\n",
       "      <th>english</th>\n",
       "      <th>mandarin</th>\n",
       "      <th>...</th>\n",
       "      <th>widowed</th>\n",
       "      <th>amererican indian</th>\n",
       "      <th>asian</th>\n",
       "      <th>black afri_amer</th>\n",
       "      <th>hisp latin</th>\n",
       "      <th>other unk_ns una_obt</th>\n",
       "      <th>puerto rican</th>\n",
       "      <th>white</th>\n",
       "      <th>f</th>\n",
       "      <th>m</th>\n",
       "    </tr>\n",
       "  </thead>\n",
       "  <tbody>\n",
       "    <tr>\n",
       "      <th>0</th>\n",
       "      <td>0</td>\n",
       "      <td>0</td>\n",
       "      <td>1</td>\n",
       "      <td>0</td>\n",
       "      <td>0</td>\n",
       "      <td>0</td>\n",
       "      <td>1</td>\n",
       "      <td>0</td>\n",
       "      <td>0</td>\n",
       "      <td>0</td>\n",
       "      <td>...</td>\n",
       "      <td>0</td>\n",
       "      <td>0</td>\n",
       "      <td>0</td>\n",
       "      <td>1</td>\n",
       "      <td>0</td>\n",
       "      <td>0</td>\n",
       "      <td>0</td>\n",
       "      <td>0</td>\n",
       "      <td>1</td>\n",
       "      <td>0</td>\n",
       "    </tr>\n",
       "  </tbody>\n",
       "</table>\n",
       "<p>1 rows × 39 columns</p>\n",
       "</div>"
      ],
      "text/plain": [
       "   hospital_expire_flag  elective  emergency  urgent  government  medicaid  \\\n",
       "0                     0         0          1       0           0         0   \n",
       "\n",
       "   medicare  private  english  mandarin  ...  widowed  amererican indian  \\\n",
       "0         1        0        0         0  ...        0                  0   \n",
       "\n",
       "   asian  black afri_amer  hisp latin  other unk_ns una_obt  puerto rican  \\\n",
       "0      0                1           0                     0             0   \n",
       "\n",
       "   white  f  m  \n",
       "0      0  1  0  \n",
       "\n",
       "[1 rows x 39 columns]"
      ]
     },
     "execution_count": 255,
     "metadata": {},
     "output_type": "execute_result"
    }
   ],
   "source": [
    "df.head(1)"
   ]
  },
  {
   "cell_type": "code",
   "execution_count": 256,
   "metadata": {},
   "outputs": [
    {
     "data": {
      "text/html": [
       "<div>\n",
       "<style scoped>\n",
       "    .dataframe tbody tr th:only-of-type {\n",
       "        vertical-align: middle;\n",
       "    }\n",
       "\n",
       "    .dataframe tbody tr th {\n",
       "        vertical-align: top;\n",
       "    }\n",
       "\n",
       "    .dataframe thead th {\n",
       "        text-align: right;\n",
       "    }\n",
       "</style>\n",
       "<table border=\"1\" class=\"dataframe\">\n",
       "  <thead>\n",
       "    <tr style=\"text-align: right;\">\n",
       "      <th></th>\n",
       "      <th>subject_id</th>\n",
       "      <th>admission_type</th>\n",
       "      <th>insurance</th>\n",
       "      <th>language</th>\n",
       "      <th>religion</th>\n",
       "      <th>marital_status</th>\n",
       "      <th>ethnicity</th>\n",
       "      <th>hospital_expire_flag</th>\n",
       "      <th>gender</th>\n",
       "      <th>cluster</th>\n",
       "    </tr>\n",
       "  </thead>\n",
       "  <tbody>\n",
       "    <tr>\n",
       "      <th>0</th>\n",
       "      <td>10006</td>\n",
       "      <td>EMERGENCY</td>\n",
       "      <td>Medicare</td>\n",
       "      <td>NaN</td>\n",
       "      <td>CATHOLIC</td>\n",
       "      <td>SEPARATED</td>\n",
       "      <td>BLACK/AFRICAN AMERICAN</td>\n",
       "      <td>0</td>\n",
       "      <td>F</td>\n",
       "      <td>3</td>\n",
       "    </tr>\n",
       "    <tr>\n",
       "      <th>1</th>\n",
       "      <td>10011</td>\n",
       "      <td>EMERGENCY</td>\n",
       "      <td>Private</td>\n",
       "      <td>NaN</td>\n",
       "      <td>CATHOLIC</td>\n",
       "      <td>SINGLE</td>\n",
       "      <td>UNKNOWN/NOT SPECIFIED</td>\n",
       "      <td>1</td>\n",
       "      <td>F</td>\n",
       "      <td>4</td>\n",
       "    </tr>\n",
       "    <tr>\n",
       "      <th>2</th>\n",
       "      <td>10013</td>\n",
       "      <td>EMERGENCY</td>\n",
       "      <td>Medicare</td>\n",
       "      <td>NaN</td>\n",
       "      <td>CATHOLIC</td>\n",
       "      <td>NaN</td>\n",
       "      <td>UNKNOWN/NOT SPECIFIED</td>\n",
       "      <td>1</td>\n",
       "      <td>F</td>\n",
       "      <td>4</td>\n",
       "    </tr>\n",
       "    <tr>\n",
       "      <th>3</th>\n",
       "      <td>10017</td>\n",
       "      <td>EMERGENCY</td>\n",
       "      <td>Medicare</td>\n",
       "      <td>NaN</td>\n",
       "      <td>CATHOLIC</td>\n",
       "      <td>DIVORCED</td>\n",
       "      <td>WHITE</td>\n",
       "      <td>0</td>\n",
       "      <td>F</td>\n",
       "      <td>3</td>\n",
       "    </tr>\n",
       "    <tr>\n",
       "      <th>4</th>\n",
       "      <td>10019</td>\n",
       "      <td>EMERGENCY</td>\n",
       "      <td>Medicare</td>\n",
       "      <td>NaN</td>\n",
       "      <td>CATHOLIC</td>\n",
       "      <td>DIVORCED</td>\n",
       "      <td>WHITE</td>\n",
       "      <td>1</td>\n",
       "      <td>M</td>\n",
       "      <td>2</td>\n",
       "    </tr>\n",
       "  </tbody>\n",
       "</table>\n",
       "</div>"
      ],
      "text/plain": [
       "   subject_id admission_type insurance language  religion marital_status  \\\n",
       "0       10006      EMERGENCY  Medicare      NaN  CATHOLIC      SEPARATED   \n",
       "1       10011      EMERGENCY   Private      NaN  CATHOLIC         SINGLE   \n",
       "2       10013      EMERGENCY  Medicare      NaN  CATHOLIC            NaN   \n",
       "3       10017      EMERGENCY  Medicare      NaN  CATHOLIC       DIVORCED   \n",
       "4       10019      EMERGENCY  Medicare      NaN  CATHOLIC       DIVORCED   \n",
       "\n",
       "                ethnicity  hospital_expire_flag gender  cluster  \n",
       "0  BLACK/AFRICAN AMERICAN                     0      F        3  \n",
       "1   UNKNOWN/NOT SPECIFIED                     1      F        4  \n",
       "2   UNKNOWN/NOT SPECIFIED                     1      F        4  \n",
       "3                   WHITE                     0      F        3  \n",
       "4                   WHITE                     1      M        2  "
      ]
     },
     "execution_count": 256,
     "metadata": {},
     "output_type": "execute_result"
    }
   ],
   "source": [
    "sale_df_std_cluster = pd.concat([ml_df, pd.DataFrame({'cluster':labels})], axis=1)\n",
    "sale_df_std_cluster.head()"
   ]
  },
  {
   "cell_type": "code",
   "execution_count": 257,
   "metadata": {},
   "outputs": [
    {
     "data": {
      "text/html": [
       "<div>\n",
       "<style scoped>\n",
       "    .dataframe tbody tr th:only-of-type {\n",
       "        vertical-align: middle;\n",
       "    }\n",
       "\n",
       "    .dataframe tbody tr th {\n",
       "        vertical-align: top;\n",
       "    }\n",
       "\n",
       "    .dataframe thead th {\n",
       "        text-align: right;\n",
       "    }\n",
       "</style>\n",
       "<table border=\"1\" class=\"dataframe\">\n",
       "  <thead>\n",
       "    <tr style=\"text-align: right;\">\n",
       "      <th></th>\n",
       "      <th>subject_id</th>\n",
       "      <th>admission_type</th>\n",
       "      <th>insurance</th>\n",
       "      <th>language</th>\n",
       "      <th>religion</th>\n",
       "      <th>marital_status</th>\n",
       "      <th>ethnicity</th>\n",
       "      <th>hospital_expire_flag</th>\n",
       "      <th>gender</th>\n",
       "    </tr>\n",
       "  </thead>\n",
       "  <tbody>\n",
       "    <tr>\n",
       "      <th>0</th>\n",
       "      <td>10006</td>\n",
       "      <td>EMERGENCY</td>\n",
       "      <td>Medicare</td>\n",
       "      <td>NaN</td>\n",
       "      <td>CATHOLIC</td>\n",
       "      <td>SEPARATED</td>\n",
       "      <td>BLACK/AFRICAN AMERICAN</td>\n",
       "      <td>0</td>\n",
       "      <td>F</td>\n",
       "    </tr>\n",
       "    <tr>\n",
       "      <th>1</th>\n",
       "      <td>10011</td>\n",
       "      <td>EMERGENCY</td>\n",
       "      <td>Private</td>\n",
       "      <td>NaN</td>\n",
       "      <td>CATHOLIC</td>\n",
       "      <td>SINGLE</td>\n",
       "      <td>UNKNOWN/NOT SPECIFIED</td>\n",
       "      <td>1</td>\n",
       "      <td>F</td>\n",
       "    </tr>\n",
       "    <tr>\n",
       "      <th>2</th>\n",
       "      <td>10013</td>\n",
       "      <td>EMERGENCY</td>\n",
       "      <td>Medicare</td>\n",
       "      <td>NaN</td>\n",
       "      <td>CATHOLIC</td>\n",
       "      <td>NaN</td>\n",
       "      <td>UNKNOWN/NOT SPECIFIED</td>\n",
       "      <td>1</td>\n",
       "      <td>F</td>\n",
       "    </tr>\n",
       "    <tr>\n",
       "      <th>3</th>\n",
       "      <td>10017</td>\n",
       "      <td>EMERGENCY</td>\n",
       "      <td>Medicare</td>\n",
       "      <td>NaN</td>\n",
       "      <td>CATHOLIC</td>\n",
       "      <td>DIVORCED</td>\n",
       "      <td>WHITE</td>\n",
       "      <td>0</td>\n",
       "      <td>F</td>\n",
       "    </tr>\n",
       "    <tr>\n",
       "      <th>4</th>\n",
       "      <td>10019</td>\n",
       "      <td>EMERGENCY</td>\n",
       "      <td>Medicare</td>\n",
       "      <td>NaN</td>\n",
       "      <td>CATHOLIC</td>\n",
       "      <td>DIVORCED</td>\n",
       "      <td>WHITE</td>\n",
       "      <td>1</td>\n",
       "      <td>M</td>\n",
       "    </tr>\n",
       "    <tr>\n",
       "      <th>...</th>\n",
       "      <td>...</td>\n",
       "      <td>...</td>\n",
       "      <td>...</td>\n",
       "      <td>...</td>\n",
       "      <td>...</td>\n",
       "      <td>...</td>\n",
       "      <td>...</td>\n",
       "      <td>...</td>\n",
       "      <td>...</td>\n",
       "    </tr>\n",
       "    <tr>\n",
       "      <th>124</th>\n",
       "      <td>44083</td>\n",
       "      <td>EMERGENCY</td>\n",
       "      <td>Private</td>\n",
       "      <td>ENGL</td>\n",
       "      <td>CATHOLIC</td>\n",
       "      <td>SINGLE</td>\n",
       "      <td>WHITE</td>\n",
       "      <td>0</td>\n",
       "      <td>M</td>\n",
       "    </tr>\n",
       "    <tr>\n",
       "      <th>125</th>\n",
       "      <td>44154</td>\n",
       "      <td>EMERGENCY</td>\n",
       "      <td>Medicare</td>\n",
       "      <td>ENGL</td>\n",
       "      <td>PROTESTANT QUAKER</td>\n",
       "      <td>MARRIED</td>\n",
       "      <td>WHITE</td>\n",
       "      <td>1</td>\n",
       "      <td>M</td>\n",
       "    </tr>\n",
       "    <tr>\n",
       "      <th>126</th>\n",
       "      <td>44212</td>\n",
       "      <td>EMERGENCY</td>\n",
       "      <td>Medicare</td>\n",
       "      <td>ENGL</td>\n",
       "      <td>UNOBTAINABLE</td>\n",
       "      <td>SINGLE</td>\n",
       "      <td>BLACK/AFRICAN AMERICAN</td>\n",
       "      <td>0</td>\n",
       "      <td>F</td>\n",
       "    </tr>\n",
       "    <tr>\n",
       "      <th>127</th>\n",
       "      <td>44222</td>\n",
       "      <td>EMERGENCY</td>\n",
       "      <td>Medicare</td>\n",
       "      <td>ENGL</td>\n",
       "      <td>CATHOLIC</td>\n",
       "      <td>SINGLE</td>\n",
       "      <td>WHITE</td>\n",
       "      <td>0</td>\n",
       "      <td>M</td>\n",
       "    </tr>\n",
       "    <tr>\n",
       "      <th>128</th>\n",
       "      <td>44228</td>\n",
       "      <td>EMERGENCY</td>\n",
       "      <td>Private</td>\n",
       "      <td>ENGL</td>\n",
       "      <td>NOT SPECIFIED</td>\n",
       "      <td>SINGLE</td>\n",
       "      <td>WHITE</td>\n",
       "      <td>0</td>\n",
       "      <td>F</td>\n",
       "    </tr>\n",
       "  </tbody>\n",
       "</table>\n",
       "<p>129 rows × 9 columns</p>\n",
       "</div>"
      ],
      "text/plain": [
       "     subject_id admission_type insurance language           religion  \\\n",
       "0         10006      EMERGENCY  Medicare      NaN           CATHOLIC   \n",
       "1         10011      EMERGENCY   Private      NaN           CATHOLIC   \n",
       "2         10013      EMERGENCY  Medicare      NaN           CATHOLIC   \n",
       "3         10017      EMERGENCY  Medicare      NaN           CATHOLIC   \n",
       "4         10019      EMERGENCY  Medicare      NaN           CATHOLIC   \n",
       "..          ...            ...       ...      ...                ...   \n",
       "124       44083      EMERGENCY   Private     ENGL           CATHOLIC   \n",
       "125       44154      EMERGENCY  Medicare     ENGL  PROTESTANT QUAKER   \n",
       "126       44212      EMERGENCY  Medicare     ENGL       UNOBTAINABLE   \n",
       "127       44222      EMERGENCY  Medicare     ENGL           CATHOLIC   \n",
       "128       44228      EMERGENCY   Private     ENGL      NOT SPECIFIED   \n",
       "\n",
       "    marital_status               ethnicity  hospital_expire_flag gender  \n",
       "0        SEPARATED  BLACK/AFRICAN AMERICAN                     0      F  \n",
       "1           SINGLE   UNKNOWN/NOT SPECIFIED                     1      F  \n",
       "2              NaN   UNKNOWN/NOT SPECIFIED                     1      F  \n",
       "3         DIVORCED                   WHITE                     0      F  \n",
       "4         DIVORCED                   WHITE                     1      M  \n",
       "..             ...                     ...                   ...    ...  \n",
       "124         SINGLE                   WHITE                     0      M  \n",
       "125        MARRIED                   WHITE                     1      M  \n",
       "126         SINGLE  BLACK/AFRICAN AMERICAN                     0      F  \n",
       "127         SINGLE                   WHITE                     0      M  \n",
       "128         SINGLE                   WHITE                     0      F  \n",
       "\n",
       "[129 rows x 9 columns]"
      ]
     },
     "execution_count": 257,
     "metadata": {},
     "output_type": "execute_result"
    }
   ],
   "source": [
    "ml_df"
   ]
  },
  {
   "cell_type": "code",
   "execution_count": 258,
   "metadata": {},
   "outputs": [
    {
     "data": {
      "image/png": "[encoded data removed]",
      "text/plain": [
       "<Figure size 3000x600 with 6 Axes>"
      ]
     },
     "metadata": {},
     "output_type": "display_data"
    },
    {
     "data": {
      "image/png": "[encoded data removed]",
      "text/plain": [
       "<Figure size 3000x600 with 6 Axes>"
      ]
     },
     "metadata": {},
     "output_type": "display_data"
    },
    {
     "data": {
      "image/png": "[encoded data removed]",
      "text/plain": [
       "<Figure size 3000x600 with 6 Axes>"
      ]
     },
     "metadata": {},
     "output_type": "display_data"
    },
    {
     "data": {
      "image/png": "[encoded data removed]",
      "text/plain": [
       "<Figure size 3000x600 with 6 Axes>"
      ]
     },
     "metadata": {},
     "output_type": "display_data"
    },
    {
     "data": {
      "image/png": "[encoded data removed]",
      "text/plain": [
       "<Figure size 3000x600 with 6 Axes>"
      ]
     },
     "metadata": {},
     "output_type": "display_data"
    },
    {
     "data": {
      "image/png": "[encoded data removed]",
      "text/plain": [
       "<Figure size 3000x600 with 6 Axes>"
      ]
     },
     "metadata": {},
     "output_type": "display_data"
    },
    {
     "data": {
      "image/png": "[encoded data removed]",
      "text/plain": [
       "<Figure size 3000x600 with 6 Axes>"
      ]
     },
     "metadata": {},
     "output_type": "display_data"
    },
    {
     "data": {
      "image/png": "[encoded data removed]",
      "text/plain": [
       "<Figure size 3000x600 with 6 Axes>"
      ]
     },
     "metadata": {},
     "output_type": "display_data"
    }
   ],
   "source": [
    "num_cluster = 6\n",
    "for i in ml_df.columns[1:]:\n",
    "    plt.figure(figsize=(30,6))\n",
    "    for j in range(num_cluster):\n",
    "        plt.subplot(1,num_cluster,j+1)\n",
    "        cluster = sale_df_std_cluster[sale_df_std_cluster['cluster']==j]\n",
    "        cluster[i].hist()\n",
    "        plt.title(f\"{i.replace('_', ' ').title()}\\nCluster {j}\")\n",
    "plt.show()"
   ]
  },
  {
   "attachments": {},
   "cell_type": "markdown",
   "metadata": {},
   "source": [
    "## **Aplicacion de Analisis de Componentes Principales (PCA)**"
   ]
  },
  {
   "cell_type": "code",
   "execution_count": 259,
   "metadata": {},
   "outputs": [
    {
     "data": {
      "text/plain": [
       "array([[-4.40466231e-01,  9.45565177e-01, -3.80276039e-01],\n",
       "       [-9.94116498e-01,  1.01125039e+00,  1.23376441e+00],\n",
       "       [-6.95518589e-01,  1.22595654e+00, -1.66359165e-01],\n",
       "       [-6.17135934e-01,  5.62408382e-01, -3.84745701e-01],\n",
       "       [ 1.75359083e-01,  6.78773114e-01,  1.74385537e-01],\n",
       "       [-8.38894349e-01,  5.41461435e-01, -4.77459817e-01],\n",
       "       [-2.26137828e-01,  3.10808299e-01, -5.16036059e-01],\n",
       "       [ 6.36725616e-02,  4.75660510e-01, -4.26884483e-02],\n",
       "       [ 2.72451321e-01,  4.94425466e-01,  3.57675397e-02],\n",
       "       [-1.67359963e-02, -9.42925853e-02, -7.00501989e-01],\n",
       "       [ 4.44795603e-01,  6.95964731e-02, -8.11074352e-02],\n",
       "       [-6.26596962e-01,  4.98822637e-01, -7.95484042e-01],\n",
       "       [-6.20069140e-01, -6.34722243e-01, -5.70146464e-01],\n",
       "       [-8.69530835e-01,  1.25197073e+00, -2.69146141e-01],\n",
       "       [ 3.95792490e-02,  6.85336386e-01,  1.05808563e-01],\n",
       "       [ 3.83818980e-01,  5.14279261e-01,  1.81491135e-01],\n",
       "       [-8.89764538e-01,  1.31388306e+00, -2.57110853e-01],\n",
       "       [-6.23653779e-01,  5.24971137e-01, -7.23049560e-01],\n",
       "       [-8.14328636e-01,  3.89986589e-01,  6.46450850e-01],\n",
       "       [-8.44542766e-01,  5.68981921e-01, -4.80199890e-01],\n",
       "       [ 7.91210212e-01,  4.09319674e-01, -2.81575496e-02],\n",
       "       [ 6.20982728e-01,  5.54362606e-01, -1.05314581e-03],\n",
       "       [-6.90271180e-01,  5.23103667e-01, -4.96259294e-01],\n",
       "       [-1.30648235e-01,  8.30379319e-01,  1.32912967e-01],\n",
       "       [-8.61924929e-01, -9.56764178e-01,  1.01984903e+00],\n",
       "       [-2.25726497e-01,  1.30399223e+00,  1.33924315e+00],\n",
       "       [-1.02592283e+00,  1.19297474e+00,  3.51694938e-01],\n",
       "       [ 5.31219384e-01,  4.07823647e-01, -1.55081669e-01],\n",
       "       [ 6.53555530e-01,  1.65629746e-01, -2.34360387e-01],\n",
       "       [-1.71512289e-01,  4.37997875e-01, -5.60184383e-01],\n",
       "       [ 1.93455463e-02,  7.47248708e-01,  1.17843851e-01],\n",
       "       [ 1.93455463e-02,  7.47248708e-01,  1.17843851e-01],\n",
       "       [-1.29345132e-01,  6.82905469e-01,  1.16710191e+00],\n",
       "       [-1.30648235e-01,  8.30379319e-01,  1.32912967e-01],\n",
       "       [-1.36365960e-01, -1.07078643e+00,  1.41062934e+00],\n",
       "       [-2.42015893e-01,  8.10525524e-01, -1.28106289e-02],\n",
       "       [ 1.82900075e-01,  1.07352581e+00,  8.29455728e-02],\n",
       "       [ 1.26725910e-02,  1.21856874e+00,  1.10049977e-01],\n",
       "       [-1.18844900e+00,  1.33267043e+00,  8.07216320e-01],\n",
       "       [ 2.54892189e-01,  3.26142761e-01,  4.78513664e-01],\n",
       "       [ 6.20982728e-01,  5.54362606e-01, -1.05314581e-03],\n",
       "       [-2.57095186e-01,  7.71516207e-01, -7.05328959e-01],\n",
       "       [ 6.42519533e-01,  3.44976434e-01,  1.02110051e+00],\n",
       "       [-7.17177838e-01,  1.05633602e+00, -4.92017880e-01],\n",
       "       [-1.12536061e+00,  6.18761752e-01, -5.26893077e-01],\n",
       "       [-6.04587738e-01,  8.22921220e-01,  4.76894023e-01],\n",
       "       [-8.23889014e-01,  8.66207454e-01,  1.20666001e+00],\n",
       "       [-9.94116498e-01,  1.01125039e+00,  1.23376441e+00],\n",
       "       [ 5.69623181e-01, -9.61039861e-01, -1.99142929e-01],\n",
       "       [ 5.69623181e-01, -9.61039861e-01, -1.99142929e-01],\n",
       "       [-2.28212030e-01,  1.04281144e+00,  1.23573010e+00],\n",
       "       [-8.56296336e-01, -8.97116950e-02, -9.56891339e-01],\n",
       "       [-1.02652382e+00,  5.53312377e-02, -9.29786935e-01],\n",
       "       [-1.39196865e+00,  6.44351366e-01,  1.00100971e+00],\n",
       "       [-1.01938327e+00,  2.66080598e-01,  6.01624150e-01],\n",
       "       [ 6.96131950e-01,  8.82932581e-01,  1.17817264e+00],\n",
       "       [-1.71512289e-01,  4.37997875e-01, -5.60184383e-01],\n",
       "       [-6.58608712e-01, -7.65231363e-01, -7.35573465e-02],\n",
       "       [-6.58608712e-01, -7.65231363e-01, -7.35573465e-02],\n",
       "       [ 6.91184768e-01, -6.03463304e-01, -7.49403161e-02],\n",
       "       [ 7.59327537e-01, -3.96204678e-01, -2.66607190e-01],\n",
       "       [-9.11858210e-01, -8.47255868e-01, -6.67244673e-01],\n",
       "       [-8.83473438e-01, -7.80676774e-01, -6.04454128e-01],\n",
       "       [ 5.79498247e-01, -8.06575907e-01, -2.92014301e-01],\n",
       "       [ 1.55423110e-01, -8.58252803e-01,  1.50772754e+00],\n",
       "       [ 4.83684216e-02, -6.51474589e-01,  1.13169492e+00],\n",
       "       [-6.20069140e-01, -6.34722243e-01, -5.70146464e-01],\n",
       "       [-1.06140111e+00, -2.79317469e-01, -5.07211039e-01],\n",
       "       [-3.86167437e-01, -8.04046205e-01, -8.96475616e-01],\n",
       "       [-5.31914933e-01, -8.42240945e-01,  2.25216923e-01],\n",
       "       [-4.54984997e-01,  7.32954905e-02, -3.13860329e-01],\n",
       "       [-9.04926328e-01, -7.18940413e-01, -8.32550527e-01],\n",
       "       [-1.08208569e+00, -7.02212935e-01, -6.40140270e-01],\n",
       "       [ 5.69623181e-01, -9.61039861e-01, -1.99142929e-01],\n",
       "       [ 5.69623181e-01, -9.61039861e-01, -1.99142929e-01],\n",
       "       [ 8.61412252e-01, -7.48506236e-01, -1.02044720e-01],\n",
       "       [ 1.64655672e+00,  4.00742037e-01, -3.25306443e-01],\n",
       "       [ 1.64655672e+00,  4.00742037e-01, -3.25306443e-01],\n",
       "       [ 1.64655672e+00,  4.00742037e-01, -3.25306443e-01],\n",
       "       [ 1.64655672e+00,  4.00742037e-01, -3.25306443e-01],\n",
       "       [ 1.64655672e+00,  4.00742037e-01, -3.25306443e-01],\n",
       "       [ 1.64655672e+00,  4.00742037e-01, -3.25306443e-01],\n",
       "       [ 1.64655672e+00,  4.00742037e-01, -3.25306443e-01],\n",
       "       [ 1.64655672e+00,  4.00742037e-01, -3.25306443e-01],\n",
       "       [ 1.64655672e+00,  4.00742037e-01, -3.25306443e-01],\n",
       "       [ 1.64655672e+00,  4.00742037e-01, -3.25306443e-01],\n",
       "       [ 1.64655672e+00,  4.00742037e-01, -3.25306443e-01],\n",
       "       [ 1.64655672e+00,  4.00742037e-01, -3.25306443e-01],\n",
       "       [ 1.64655672e+00,  4.00742037e-01, -3.25306443e-01],\n",
       "       [ 1.64655672e+00,  4.00742037e-01, -3.25306443e-01],\n",
       "       [ 1.64655672e+00,  4.00742037e-01, -3.25306443e-01],\n",
       "       [-1.02316870e+00, -2.98768390e-01, -4.73001037e-01],\n",
       "       [-5.22213980e-01, -6.14529501e-01, -7.48572115e-01],\n",
       "       [-1.48043738e-02, -7.13209871e-01,  1.53483195e+00],\n",
       "       [-1.18201436e-01,  1.90655760e-01,  7.03743300e-02],\n",
       "       [ 7.16779929e-01, -4.67756838e-01,  4.63168405e-01],\n",
       "       [ 5.46552445e-01, -3.22713906e-01,  4.90272808e-01],\n",
       "       [-3.83224254e-01, -7.77897706e-01, -8.24041135e-01],\n",
       "       [-1.55935787e-01, -8.47017611e-01, -5.89923230e-01],\n",
       "       [ 8.61412252e-01, -7.48506236e-01, -1.02044720e-01],\n",
       "       [-9.78763220e-01, -5.01412194e-01, -1.39069704e-01],\n",
       "       [ 1.55423110e-01, -8.58252803e-01,  1.50772754e+00],\n",
       "       [-9.50397783e-01, -9.77764987e-01, -1.70655556e-01],\n",
       "       [-8.26447550e-01, -9.82621236e-02, -5.39998454e-01],\n",
       "       [-9.50397783e-01, -9.77764987e-01, -1.70655556e-01],\n",
       "       [-1.12062527e+00, -8.32722055e-01, -1.43551152e-01],\n",
       "       [-5.56394921e-01, -6.59003273e-01, -8.69371212e-01],\n",
       "       [ 6.25185055e-01, -2.03495688e-01, -4.88789595e-01],\n",
       "       [ 3.83879944e-02, -5.34391580e-01, -6.99111091e-03],\n",
       "       [ 5.76555064e-01, -8.32724406e-01, -3.64448782e-01],\n",
       "       [ 6.91184768e-01, -6.03463304e-01, -7.49403161e-02],\n",
       "       [-1.02652382e+00,  5.53312377e-02, -9.29786935e-01],\n",
       "       [ 5.76555064e-01, -8.32724406e-01, -3.64448782e-01],\n",
       "       [ 8.61412252e-01, -7.48506236e-01, -1.02044720e-01],\n",
       "       [ 6.58096035e-01, -9.40039051e-01,  9.91361661e-01],\n",
       "       [-6.04996295e-01, -2.27275216e-01,  8.35147826e-02],\n",
       "       [-2.71537733e-01, -5.74785102e-01, -6.06967150e-01],\n",
       "       [-2.39903428e-01, -3.89708285e-01, -8.46904125e-01],\n",
       "       [ 4.20932503e-01, -1.02538310e+00,  8.50115128e-01],\n",
       "       [ 4.20932503e-01, -1.02538310e+00,  8.50115128e-01],\n",
       "       [-9.74538705e-01,  3.30460329e-01, -5.97341850e-01],\n",
       "       [-6.74694678e-01, -7.61911819e-01, -5.25998140e-01],\n",
       "       [ 1.00797572e-01, -9.85442379e-01,  1.55187587e+00],\n",
       "       [ 1.55423110e-01, -8.58252803e-01,  1.50772754e+00],\n",
       "       [ 1.55423110e-01, -8.58252803e-01,  1.50772754e+00],\n",
       "       [ 4.09270763e-01, -6.61532974e-01, -2.64909897e-01],\n",
       "       [-8.59527617e-01, -2.05984816e-01, -1.72102909e-01],\n",
       "       [ 3.04113789e-01, -7.93909564e-01,  4.58469487e-01],\n",
       "       [-1.09908846e+00, -1.04210823e+00,  8.78602502e-01]])"
      ]
     },
     "execution_count": 259,
     "metadata": {},
     "output_type": "execute_result"
    }
   ],
   "source": [
    "# Reducción de los datos originales a 3 dimensiones usando PCA para visualizar los clusters\n",
    "pca_3d = PCA(n_components=3)\n",
    "principal_component_3d = pca_3d.fit_transform(df_robust_scaled)\n",
    "principal_component_3d"
   ]
  },
  {
   "cell_type": "code",
   "execution_count": 260,
   "metadata": {},
   "outputs": [
    {
     "data": {
      "text/html": [
       "<div>\n",
       "<style scoped>\n",
       "    .dataframe tbody tr th:only-of-type {\n",
       "        vertical-align: middle;\n",
       "    }\n",
       "\n",
       "    .dataframe tbody tr th {\n",
       "        vertical-align: top;\n",
       "    }\n",
       "\n",
       "    .dataframe thead th {\n",
       "        text-align: right;\n",
       "    }\n",
       "</style>\n",
       "<table border=\"1\" class=\"dataframe\">\n",
       "  <thead>\n",
       "    <tr style=\"text-align: right;\">\n",
       "      <th></th>\n",
       "      <th>pca1</th>\n",
       "      <th>pca2</th>\n",
       "      <th>pca3</th>\n",
       "    </tr>\n",
       "  </thead>\n",
       "  <tbody>\n",
       "    <tr>\n",
       "      <th>0</th>\n",
       "      <td>-0.440466</td>\n",
       "      <td>0.945565</td>\n",
       "      <td>-0.380276</td>\n",
       "    </tr>\n",
       "    <tr>\n",
       "      <th>1</th>\n",
       "      <td>-0.994116</td>\n",
       "      <td>1.011250</td>\n",
       "      <td>1.233764</td>\n",
       "    </tr>\n",
       "    <tr>\n",
       "      <th>2</th>\n",
       "      <td>-0.695519</td>\n",
       "      <td>1.225957</td>\n",
       "      <td>-0.166359</td>\n",
       "    </tr>\n",
       "  </tbody>\n",
       "</table>\n",
       "</div>"
      ],
      "text/plain": [
       "       pca1      pca2      pca3\n",
       "0 -0.440466  0.945565 -0.380276\n",
       "1 -0.994116  1.011250  1.233764\n",
       "2 -0.695519  1.225957 -0.166359"
      ]
     },
     "execution_count": 260,
     "metadata": {},
     "output_type": "execute_result"
    }
   ],
   "source": [
    "# Convertimos en un dataframe\n",
    "pca_df_3d = pd.DataFrame(data=principal_component_3d, columns=['pca1','pca2','pca3'])\n",
    "pca_df_3d.head(3)"
   ]
  },
  {
   "attachments": {},
   "cell_type": "markdown",
   "metadata": {},
   "source": [
    "Ahora concatenemos el dataframe pca_df con el array de labels (prediccion del clustering) transformado a un dataframe cuyo nombre de la columna será cluster."
   ]
  },
  {
   "cell_type": "code",
   "execution_count": 261,
   "metadata": {},
   "outputs": [
    {
     "data": {
      "text/html": [
       "<div>\n",
       "<style scoped>\n",
       "    .dataframe tbody tr th:only-of-type {\n",
       "        vertical-align: middle;\n",
       "    }\n",
       "\n",
       "    .dataframe tbody tr th {\n",
       "        vertical-align: top;\n",
       "    }\n",
       "\n",
       "    .dataframe thead th {\n",
       "        text-align: right;\n",
       "    }\n",
       "</style>\n",
       "<table border=\"1\" class=\"dataframe\">\n",
       "  <thead>\n",
       "    <tr style=\"text-align: right;\">\n",
       "      <th></th>\n",
       "      <th>pca1</th>\n",
       "      <th>pca2</th>\n",
       "      <th>pca3</th>\n",
       "      <th>cluster</th>\n",
       "    </tr>\n",
       "  </thead>\n",
       "  <tbody>\n",
       "    <tr>\n",
       "      <th>0</th>\n",
       "      <td>-0.440466</td>\n",
       "      <td>0.945565</td>\n",
       "      <td>-0.380276</td>\n",
       "      <td>3</td>\n",
       "    </tr>\n",
       "    <tr>\n",
       "      <th>1</th>\n",
       "      <td>-0.994116</td>\n",
       "      <td>1.011250</td>\n",
       "      <td>1.233764</td>\n",
       "      <td>4</td>\n",
       "    </tr>\n",
       "  </tbody>\n",
       "</table>\n",
       "</div>"
      ],
      "text/plain": [
       "       pca1      pca2      pca3  cluster\n",
       "0 -0.440466  0.945565 -0.380276        3\n",
       "1 -0.994116  1.011250  1.233764        4"
      ]
     },
     "execution_count": 261,
     "metadata": {},
     "output_type": "execute_result"
    }
   ],
   "source": [
    "pca_df_3d = pd.concat([pca_df_3d,pd.DataFrame({'cluster':labels})], axis = 1)\n",
    "pca_df_3d.head(2)"
   ]
  },
  {
   "attachments": {},
   "cell_type": "markdown",
   "metadata": {},
   "source": [
    "Graficamos la disperción por cada uno de los clusters."
   ]
  },
  {
   "cell_type": "code",
   "execution_count": 262,
   "metadata": {},
   "outputs": [
    {
     "data": {
      "application/vnd.plotly.v1+json": {
       "config": {
        "plotlyServerURL": "https://plot.ly"
       },
       "data": [
        {
         "hovertemplate": "cluster=%{marker.color}<br>pca1=%{x}<br>pca2=%{y}<br>pca3=%{z}<extra></extra>",
         "legendgroup": "3",
         "marker": {
          "color": [
           3,
           3,
           3,
           3,
           3,
           3,
           3,
           3,
           3,
           3,
           3,
           3,
           3,
           3,
           3
          ],
          "coloraxis": "coloraxis",
          "opacity": 0.7,
          "symbol": "circle"
         },
         "mode": "markers",
         "name": "3",
         "scene": "scene",
         "showlegend": true,
         "type": "scatter3d",
         "x": [
          -0.44046623060499673,
          -0.617135934350388,
          -0.8388943494042659,
          -0.2261378277247642,
          -0.016735996334051196,
          -0.623653778842479,
          -0.8143286358259354,
          -0.8445427657393764,
          -0.6902711798607298,
          -0.17151228946409983,
          -0.2570951857501684,
          -0.7171778378367059,
          -1.1253606054642962,
          -1.019383270926701,
          -0.17151228946409922
         ],
         "y": [
          0.9455651772861108,
          0.5624083824637801,
          0.5414614351830391,
          0.31080829906175067,
          -0.09429258532810084,
          0.5249711368288948,
          0.38998658920011114,
          0.5689819206512104,
          0.5231036667720145,
          0.43799787490114966,
          0.7715162072213074,
          1.0563360206490846,
          0.6187617524386824,
          0.26608059813842955,
          0.43799787490114955
         ],
         "z": [
          -0.380276039304825,
          -0.38474570065661995,
          -0.4774598173435363,
          -0.516036059413455,
          -0.7005019887533134,
          -0.7230495604846539,
          0.6464508496263961,
          -0.4801998896919881,
          -0.4962592937913586,
          -0.5601843831134513,
          -0.705328958656267,
          -0.492017880224663,
          -0.5268930771121166,
          0.6016241500893962,
          -0.5601843831134511
         ]
        },
        {
         "hovertemplate": "cluster=%{marker.color}<br>pca1=%{x}<br>pca2=%{y}<br>pca3=%{z}<extra></extra>",
         "legendgroup": "4",
         "marker": {
          "color": [
           4,
           4,
           4,
           4,
           4,
           4,
           4,
           4,
           4,
           4,
           4,
           4,
           4
          ],
          "coloraxis": "coloraxis",
          "opacity": 0.7,
          "symbol": "diamond"
         },
         "mode": "markers",
         "name": "4",
         "scene": "scene",
         "showlegend": true,
         "type": "scatter3d",
         "x": [
          -0.9941164983830261,
          -0.6955185888581715,
          -0.8695308352646557,
          -0.8897645380173427,
          -0.22572649689711818,
          -1.025922830857136,
          -1.188448998090464,
          -0.604587738242263,
          -0.8238890142597097,
          -0.9941164983830262,
          -0.22821202959546996,
          -1.3919686458277496,
          0.6961319499416777
         ],
         "y": [
          1.0112503870594831,
          1.2259565412375826,
          1.2519707341568866,
          1.313883056055743,
          1.3039922262683596,
          1.1929747362939962,
          1.3326704275309673,
          0.8229212195236029,
          0.866207454428337,
          1.0112503870594827,
          1.0428114402167792,
          0.6443513660741697,
          0.8829325809172406
         ],
         "z": [
          1.2337644140927733,
          -0.16635916514962537,
          -0.2691461413161914,
          -0.25711085305296916,
          1.339243153431233,
          0.3516949377499732,
          0.8072163199295369,
          0.4768940232026238,
          1.206660010289947,
          1.233764414092774,
          1.2357300968028389,
          1.0010097125975355,
          1.1781726369626462
         ]
        },
        {
         "hovertemplate": "cluster=%{marker.color}<br>pca1=%{x}<br>pca2=%{y}<br>pca3=%{z}<extra></extra>",
         "legendgroup": "2",
         "marker": {
          "color": [
           2,
           2,
           2,
           2,
           2,
           2,
           2,
           2,
           2,
           2,
           2,
           2,
           2,
           2,
           2
          ],
          "coloraxis": "coloraxis",
          "opacity": 0.7,
          "symbol": "square"
         },
         "mode": "markers",
         "name": "2",
         "scene": "scene",
         "showlegend": true,
         "type": "scatter3d",
         "x": [
          0.1753590827196445,
          0.06367256158789714,
          0.27245132133261735,
          0.03957924901377043,
          0.3838189795435709,
          -0.13064823510954668,
          0.5312193839747598,
          0.019345546261082036,
          0.019345546261081748,
          -0.1293451324414108,
          -0.13064823510954668,
          -0.24201589332049914,
          0.18290007516111,
          0.012672591037792596,
          -0.11820143607588866
         ],
         "y": [
          0.6787731138323191,
          0.47566051049777247,
          0.494425465509408,
          0.685336386358516,
          0.5142792608080661,
          0.8303793189896628,
          0.4078236467509088,
          0.7472487082573733,
          0.7472487082573733,
          0.682905469000308,
          0.830379318989663,
          0.8105255236910036,
          1.0735258076044398,
          1.2185687402355865,
          0.19065576025411346
         ],
         "z": [
          0.17438553664790551,
          -0.04268844832895351,
          0.03576753971033792,
          0.10580856305400517,
          0.18149113541774234,
          0.1329129668568323,
          -0.1550816688713374,
          0.11784385131722692,
          0.11784385131722666,
          1.167101908760127,
          0.13291296685683252,
          -0.012810628850571479,
          0.08294557281787239,
          0.11004997662069967,
          0.07037433001887781
         ]
        },
        {
         "hovertemplate": "cluster=%{marker.color}<br>pca1=%{x}<br>pca2=%{y}<br>pca3=%{z}<extra></extra>",
         "legendgroup": "1",
         "marker": {
          "color": [
           1,
           1,
           1,
           1,
           1,
           1,
           1,
           1,
           1,
           1,
           1,
           1,
           1,
           1,
           1,
           1,
           1,
           1,
           1,
           1,
           1,
           1,
           1,
           1,
           1,
           1
          ],
          "coloraxis": "coloraxis",
          "opacity": 0.7,
          "symbol": "x"
         },
         "mode": "markers",
         "name": "1",
         "scene": "scene",
         "showlegend": true,
         "type": "scatter3d",
         "x": [
          0.44479560289415265,
          0.791210211729248,
          0.6209827276059311,
          0.6535555300765546,
          0.2548921889706644,
          0.6209827276059314,
          0.6425195330267552,
          0.5696231814845056,
          0.5696231814845056,
          0.6911847679356204,
          0.7593275368693642,
          0.5794982468038733,
          0.5696231814845056,
          0.5696231814845056,
          0.8614122520589371,
          0.7167799291043951,
          0.5465524449810789,
          0.8614122520589371,
          0.038387994413030986,
          0.5765550639206645,
          0.6911847679356204,
          0.5765550639206645,
          0.8614122520589371,
          0.4209325027820125,
          0.42093250278201255,
          0.4092707626805566
         ],
         "y": [
          0.06959647312396548,
          0.4093196736385423,
          0.5543626062696889,
          0.165629746213571,
          0.32614276101170375,
          0.5543626062696887,
          0.3449764343814773,
          -0.9610398610092885,
          -0.9610398610092885,
          -0.6034633037029646,
          -0.3962046784065063,
          -0.8065759070375111,
          -0.9610398610092885,
          -0.9610398610092885,
          -0.7485062363341101,
          -0.46775683826185105,
          -0.32271390563070496,
          -0.7485062363341101,
          -0.5343915798517606,
          -0.8327244064988559,
          -0.6034633037029646,
          -0.8327244064988559,
          -0.7485062363341101,
          -1.0253831002663547,
          -1.0253831002663547,
          -0.6615329744063656
         ],
         "z": [
          -0.08110743518130786,
          -0.028157549611754602,
          -0.0010531458089265086,
          -0.23436038698367634,
          0.4785136642055829,
          -0.0010531458089265927,
          1.0211005078311457,
          -0.19914292914335527,
          -0.19914292914335527,
          -0.07494031607097773,
          -0.26660718998119415,
          -0.2920143010478363,
          -0.19914292914335527,
          -0.19914292914335527,
          -0.10204471987380598,
          0.46316840453813374,
          0.490272808340962,
          -0.10204471987380598,
          -0.006991110912736519,
          -0.364448782372246,
          -0.07494031607097773,
          -0.364448782372246,
          -0.10204471987380598,
          0.8501151282995444,
          0.8501151282995444,
          -0.26490989724500863
         ]
        },
        {
         "hovertemplate": "cluster=%{marker.color}<br>pca1=%{x}<br>pca2=%{y}<br>pca3=%{z}<extra></extra>",
         "legendgroup": "0",
         "marker": {
          "color": [
           0,
           0,
           0,
           0,
           0,
           0,
           0
          ],
          "coloraxis": "coloraxis",
          "opacity": 0.7,
          "symbol": "cross"
         },
         "mode": "markers",
         "name": "0",
         "scene": "scene",
         "showlegend": true,
         "type": "scatter3d",
         "x": [
          -0.6265969617256881,
          -0.8562963364861914,
          -1.0265238206095073,
          -0.9049263276693134,
          0.6251850551037863,
          -1.0265238206095073,
          -0.9745387047900838
         ],
         "y": [
          0.4988226373675503,
          -0.08971169496057392,
          0.05533123767057206,
          -0.718940413365384,
          -0.20349568809404586,
          0.05533123767057206,
          0.33046032868442626
         ],
         "z": [
          -0.7954840418090643,
          -0.9568913392004764,
          -0.9297869353976479,
          -0.8325505265518501,
          -0.48878959502087227,
          -0.9297869353976479,
          -0.5973418495555407
         ]
        },
        {
         "hovertemplate": "cluster=%{marker.color}<br>pca1=%{x}<br>pca2=%{y}<br>pca3=%{z}<extra></extra>",
         "legendgroup": "7",
         "marker": {
          "color": [
           7,
           7,
           7,
           7,
           7,
           7,
           7,
           7,
           7,
           7,
           7,
           7,
           7,
           7,
           7,
           7,
           7,
           7,
           7,
           7,
           7,
           7,
           7,
           7,
           7,
           7
          ],
          "coloraxis": "coloraxis",
          "opacity": 0.7,
          "symbol": "circle"
         },
         "mode": "markers",
         "name": "7",
         "scene": "scene",
         "showlegend": true,
         "type": "scatter3d",
         "x": [
          -0.6200691395310413,
          -0.6586087121424514,
          -0.6586087121424514,
          -0.9118582101054717,
          -0.8834734375364259,
          -0.620069139531041,
          -1.0614011086738149,
          -0.3861674372726832,
          -0.5319149330919671,
          -0.4549849966340568,
          -1.0820856942287882,
          -1.0231686959732051,
          -0.5222139802677396,
          -0.3832242543894743,
          -0.15593578739507497,
          -0.9787632196283597,
          -0.950397782716882,
          -0.8264475503706069,
          -0.950397782716882,
          -1.1206252668401984,
          -0.5563949213959994,
          -0.6049962952275285,
          -0.271537733257727,
          -0.23990342824213415,
          -0.674694677791705,
          -0.8595276165249118
         ],
         "y": [
          -0.6347222432006384,
          -0.7652313628230134,
          -0.7652313628230134,
          -0.8472558678758166,
          -0.7806767740516724,
          -0.6347222432006383,
          -0.27931746932727697,
          -0.8040462052362488,
          -0.84224094503197,
          0.07329549045446036,
          -0.7022129352446712,
          -0.2987683897203839,
          -0.6145295007271927,
          -0.7778977057749041,
          -0.8470176109109023,
          -0.5014121940998933,
          -0.977764987498192,
          -0.09826212355250875,
          -0.977764987498192,
          -0.8327220548670463,
          -0.6590032726051034,
          -0.22727521628725106,
          -0.5747851024403574,
          -0.3897082845289806,
          -0.7619118190400372,
          -0.20598481602664034
         ],
         "z": [
          -0.5701464640534095,
          -0.07355734654650595,
          -0.07355734654650595,
          -0.6672446733229591,
          -0.6044541283927042,
          -0.5701464640534096,
          -0.5072110394795795,
          -0.8964756158739425,
          0.2252169228933677,
          -0.31386032882908826,
          -0.640140269520131,
          -0.4730010369069147,
          -0.7485721150597693,
          -0.8240411345495328,
          -0.5899232296755056,
          -0.13906970378167643,
          -0.17065555581605535,
          -0.5399984541814916,
          -0.17065555581605535,
          -0.1435511520132274,
          -0.8693712120711147,
          0.08351478258499498,
          -0.6069671495726744,
          -0.8469041247856653,
          -0.5259981403534127,
          -0.17210290914637602
         ]
        },
        {
         "hovertemplate": "cluster=%{marker.color}<br>pca1=%{x}<br>pca2=%{y}<br>pca3=%{z}<extra></extra>",
         "legendgroup": "6",
         "marker": {
          "color": [
           6,
           6,
           6,
           6,
           6,
           6,
           6,
           6,
           6,
           6,
           6,
           6
          ],
          "coloraxis": "coloraxis",
          "opacity": 0.7,
          "symbol": "diamond"
         },
         "mode": "markers",
         "name": "6",
         "scene": "scene",
         "showlegend": true,
         "type": "scatter3d",
         "x": [
          -0.8619249291056084,
          -0.13636596022602762,
          0.15542311034840398,
          0.04836842157378447,
          -0.014804373774912305,
          0.15542311034840398,
          0.6580960350957794,
          0.10079757208773996,
          0.15542311034840364,
          0.15542311034840364,
          0.3041137890508963,
          -1.099088461419375
         ],
         "y": [
          -0.9567641779194779,
          -1.070786428017865,
          -0.8582528033426865,
          -0.6514745894040036,
          -0.7132098707115407,
          -0.8582528033426865,
          -0.9400390514305748,
          -0.9854423791820849,
          -0.8582528033426868,
          -0.8582528033426866,
          -0.7939095640856213,
          -1.042108226755258
         ],
         "z": [
          1.0198490345963906,
          1.4106293351285415,
          1.5077275443980909,
          1.1316949166688701,
          1.5348319482009187,
          1.5077275443980909,
          0.9913616612690906,
          1.551875868098087,
          1.50772754439809,
          1.5077275443980906,
          0.4584694869551906,
          0.8786025016268447
         ]
        },
        {
         "hovertemplate": "cluster=%{marker.color}<br>pca1=%{x}<br>pca2=%{y}<br>pca3=%{z}<extra></extra>",
         "legendgroup": "5",
         "marker": {
          "color": [
           5,
           5,
           5,
           5,
           5,
           5,
           5,
           5,
           5,
           5,
           5,
           5,
           5,
           5,
           5
          ],
          "coloraxis": "coloraxis",
          "opacity": 0.7,
          "symbol": "square"
         },
         "mode": "markers",
         "name": "5",
         "scene": "scene",
         "showlegend": true,
         "type": "scatter3d",
         "x": [
          1.6465567228718239,
          1.6465567228718239,
          1.6465567228718239,
          1.6465567228718239,
          1.6465567228718239,
          1.6465567228718239,
          1.6465567228718239,
          1.6465567228718239,
          1.6465567228718239,
          1.6465567228718239,
          1.6465567228718239,
          1.6465567228718239,
          1.6465567228718239,
          1.6465567228718239,
          1.6465567228718239
         ],
         "y": [
          0.4007420366850859,
          0.4007420366850859,
          0.4007420366850859,
          0.4007420366850859,
          0.4007420366850859,
          0.4007420366850859,
          0.4007420366850859,
          0.4007420366850859,
          0.4007420366850859,
          0.4007420366850859,
          0.4007420366850859,
          0.4007420366850859,
          0.4007420366850859,
          0.4007420366850859,
          0.4007420366850859
         ],
         "z": [
          -0.32530644328134173,
          -0.32530644328134173,
          -0.32530644328134173,
          -0.32530644328134173,
          -0.32530644328134173,
          -0.32530644328134173,
          -0.32530644328134173,
          -0.32530644328134173,
          -0.32530644328134173,
          -0.32530644328134173,
          -0.32530644328134173,
          -0.32530644328134173,
          -0.32530644328134173,
          -0.32530644328134173,
          -0.32530644328134173
         ]
        }
       ],
       "layout": {
        "coloraxis": {
         "colorbar": {
          "title": {
           "text": "cluster"
          }
         },
         "colorscale": [
          [
           0,
           "#0d0887"
          ],
          [
           0.1111111111111111,
           "#46039f"
          ],
          [
           0.2222222222222222,
           "#7201a8"
          ],
          [
           0.3333333333333333,
           "#9c179e"
          ],
          [
           0.4444444444444444,
           "#bd3786"
          ],
          [
           0.5555555555555556,
           "#d8576b"
          ],
          [
           0.6666666666666666,
           "#ed7953"
          ],
          [
           0.7777777777777778,
           "#fb9f3a"
          ],
          [
           0.8888888888888888,
           "#fdca26"
          ],
          [
           1,
           "#f0f921"
          ]
         ]
        },
        "legend": {
         "title": {
          "text": "cluster"
         },
         "tracegroupgap": 0
        },
        "margin": {
         "b": 0,
         "l": 0,
         "r": 0,
         "t": 0
        },
        "scene": {
         "domain": {
          "x": [
           0,
           1
          ],
          "y": [
           0,
           1
          ]
         },
         "xaxis": {
          "title": {
           "text": "pca1"
          }
         },
         "yaxis": {
          "title": {
           "text": "pca2"
          }
         },
         "zaxis": {
          "title": {
           "text": "pca3"
          }
         }
        },
        "template": {
         "data": {
          "bar": [
           {
            "error_x": {
             "color": "#2a3f5f"
            },
            "error_y": {
             "color": "#2a3f5f"
            },
            "marker": {
             "line": {
              "color": "#E5ECF6",
              "width": 0.5
             },
             "pattern": {
              "fillmode": "overlay",
              "size": 10,
              "solidity": 0.2
             }
            },
            "type": "bar"
           }
          ],
          "barpolar": [
           {
            "marker": {
             "line": {
              "color": "#E5ECF6",
              "width": 0.5
             },
             "pattern": {
              "fillmode": "overlay",
              "size": 10,
              "solidity": 0.2
             }
            },
            "type": "barpolar"
           }
          ],
          "carpet": [
           {
            "aaxis": {
             "endlinecolor": "#2a3f5f",
             "gridcolor": "white",
             "linecolor": "white",
             "minorgridcolor": "white",
             "startlinecolor": "#2a3f5f"
            },
            "baxis": {
             "endlinecolor": "#2a3f5f",
             "gridcolor": "white",
             "linecolor": "white",
             "minorgridcolor": "white",
             "startlinecolor": "#2a3f5f"
            },
            "type": "carpet"
           }
          ],
          "choropleth": [
           {
            "colorbar": {
             "outlinewidth": 0,
             "ticks": ""
            },
            "type": "choropleth"
           }
          ],
          "contour": [
           {
            "colorbar": {
             "outlinewidth": 0,
             "ticks": ""
            },
            "colorscale": [
             [
              0,
              "#0d0887"
             ],
             [
              0.1111111111111111,
              "#46039f"
             ],
             [
              0.2222222222222222,
              "#7201a8"
             ],
             [
              0.3333333333333333,
              "#9c179e"
             ],
             [
              0.4444444444444444,
              "#bd3786"
             ],
             [
              0.5555555555555556,
              "#d8576b"
             ],
             [
              0.6666666666666666,
              "#ed7953"
             ],
             [
              0.7777777777777778,
              "#fb9f3a"
             ],
             [
              0.8888888888888888,
              "#fdca26"
             ],
             [
              1,
              "#f0f921"
             ]
            ],
            "type": "contour"
           }
          ],
          "contourcarpet": [
           {
            "colorbar": {
             "outlinewidth": 0,
             "ticks": ""
            },
            "type": "contourcarpet"
           }
          ],
          "heatmap": [
           {
            "colorbar": {
             "outlinewidth": 0,
             "ticks": ""
            },
            "colorscale": [
             [
              0,
              "#0d0887"
             ],
             [
              0.1111111111111111,
              "#46039f"
             ],
             [
              0.2222222222222222,
              "#7201a8"
             ],
             [
              0.3333333333333333,
              "#9c179e"
             ],
             [
              0.4444444444444444,
              "#bd3786"
             ],
             [
              0.5555555555555556,
              "#d8576b"
             ],
             [
              0.6666666666666666,
              "#ed7953"
             ],
             [
              0.7777777777777778,
              "#fb9f3a"
             ],
             [
              0.8888888888888888,
              "#fdca26"
             ],
             [
              1,
              "#f0f921"
             ]
            ],
            "type": "heatmap"
           }
          ],
          "heatmapgl": [
           {
            "colorbar": {
             "outlinewidth": 0,
             "ticks": ""
            },
            "colorscale": [
             [
              0,
              "#0d0887"
             ],
             [
              0.1111111111111111,
              "#46039f"
             ],
             [
              0.2222222222222222,
              "#7201a8"
             ],
             [
              0.3333333333333333,
              "#9c179e"
             ],
             [
              0.4444444444444444,
              "#bd3786"
             ],
             [
              0.5555555555555556,
              "#d8576b"
             ],
             [
              0.6666666666666666,
              "#ed7953"
             ],
             [
              0.7777777777777778,
              "#fb9f3a"
             ],
             [
              0.8888888888888888,
              "#fdca26"
             ],
             [
              1,
              "#f0f921"
             ]
            ],
            "type": "heatmapgl"
           }
          ],
          "histogram": [
           {
            "marker": {
             "pattern": {
              "fillmode": "overlay",
              "size": 10,
              "solidity": 0.2
             }
            },
            "type": "histogram"
           }
          ],
          "histogram2d": [
           {
            "colorbar": {
             "outlinewidth": 0,
             "ticks": ""
            },
            "colorscale": [
             [
              0,
              "#0d0887"
             ],
             [
              0.1111111111111111,
              "#46039f"
             ],
             [
              0.2222222222222222,
              "#7201a8"
             ],
             [
              0.3333333333333333,
              "#9c179e"
             ],
             [
              0.4444444444444444,
              "#bd3786"
             ],
             [
              0.5555555555555556,
              "#d8576b"
             ],
             [
              0.6666666666666666,
              "#ed7953"
             ],
             [
              0.7777777777777778,
              "#fb9f3a"
             ],
             [
              0.8888888888888888,
              "#fdca26"
             ],
             [
              1,
              "#f0f921"
             ]
            ],
            "type": "histogram2d"
           }
          ],
          "histogram2dcontour": [
           {
            "colorbar": {
             "outlinewidth": 0,
             "ticks": ""
            },
            "colorscale": [
             [
              0,
              "#0d0887"
             ],
             [
              0.1111111111111111,
              "#46039f"
             ],
             [
              0.2222222222222222,
              "#7201a8"
             ],
             [
              0.3333333333333333,
              "#9c179e"
             ],
             [
              0.4444444444444444,
              "#bd3786"
             ],
             [
              0.5555555555555556,
              "#d8576b"
             ],
             [
              0.6666666666666666,
              "#ed7953"
             ],
             [
              0.7777777777777778,
              "#fb9f3a"
             ],
             [
              0.8888888888888888,
              "#fdca26"
             ],
             [
              1,
              "#f0f921"
             ]
            ],
            "type": "histogram2dcontour"
           }
          ],
          "mesh3d": [
           {
            "colorbar": {
             "outlinewidth": 0,
             "ticks": ""
            },
            "type": "mesh3d"
           }
          ],
          "parcoords": [
           {
            "line": {
             "colorbar": {
              "outlinewidth": 0,
              "ticks": ""
             }
            },
            "type": "parcoords"
           }
          ],
          "pie": [
           {
            "automargin": true,
            "type": "pie"
           }
          ],
          "scatter": [
           {
            "fillpattern": {
             "fillmode": "overlay",
             "size": 10,
             "solidity": 0.2
            },
            "type": "scatter"
           }
          ],
          "scatter3d": [
           {
            "line": {
             "colorbar": {
              "outlinewidth": 0,
              "ticks": ""
             }
            },
            "marker": {
             "colorbar": {
              "outlinewidth": 0,
              "ticks": ""
             }
            },
            "type": "scatter3d"
           }
          ],
          "scattercarpet": [
           {
            "marker": {
             "colorbar": {
              "outlinewidth": 0,
              "ticks": ""
             }
            },
            "type": "scattercarpet"
           }
          ],
          "scattergeo": [
           {
            "marker": {
             "colorbar": {
              "outlinewidth": 0,
              "ticks": ""
             }
            },
            "type": "scattergeo"
           }
          ],
          "scattergl": [
           {
            "marker": {
             "colorbar": {
              "outlinewidth": 0,
              "ticks": ""
             }
            },
            "type": "scattergl"
           }
          ],
          "scattermapbox": [
           {
            "marker": {
             "colorbar": {
              "outlinewidth": 0,
              "ticks": ""
             }
            },
            "type": "scattermapbox"
           }
          ],
          "scatterpolar": [
           {
            "marker": {
             "colorbar": {
              "outlinewidth": 0,
              "ticks": ""
             }
            },
            "type": "scatterpolar"
           }
          ],
          "scatterpolargl": [
           {
            "marker": {
             "colorbar": {
              "outlinewidth": 0,
              "ticks": ""
             }
            },
            "type": "scatterpolargl"
           }
          ],
          "scatterternary": [
           {
            "marker": {
             "colorbar": {
              "outlinewidth": 0,
              "ticks": ""
             }
            },
            "type": "scatterternary"
           }
          ],
          "surface": [
           {
            "colorbar": {
             "outlinewidth": 0,
             "ticks": ""
            },
            "colorscale": [
             [
              0,
              "#0d0887"
             ],
             [
              0.1111111111111111,
              "#46039f"
             ],
             [
              0.2222222222222222,
              "#7201a8"
             ],
             [
              0.3333333333333333,
              "#9c179e"
             ],
             [
              0.4444444444444444,
              "#bd3786"
             ],
             [
              0.5555555555555556,
              "#d8576b"
             ],
             [
              0.6666666666666666,
              "#ed7953"
             ],
             [
              0.7777777777777778,
              "#fb9f3a"
             ],
             [
              0.8888888888888888,
              "#fdca26"
             ],
             [
              1,
              "#f0f921"
             ]
            ],
            "type": "surface"
           }
          ],
          "table": [
           {
            "cells": {
             "fill": {
              "color": "#EBF0F8"
             },
             "line": {
              "color": "white"
             }
            },
            "header": {
             "fill": {
              "color": "#C8D4E3"
             },
             "line": {
              "color": "white"
             }
            },
            "type": "table"
           }
          ]
         },
         "layout": {
          "annotationdefaults": {
           "arrowcolor": "#2a3f5f",
           "arrowhead": 0,
           "arrowwidth": 1
          },
          "autotypenumbers": "strict",
          "coloraxis": {
           "colorbar": {
            "outlinewidth": 0,
            "ticks": ""
           }
          },
          "colorscale": {
           "diverging": [
            [
             0,
             "#8e0152"
            ],
            [
             0.1,
             "#c51b7d"
            ],
            [
             0.2,
             "#de77ae"
            ],
            [
             0.3,
             "#f1b6da"
            ],
            [
             0.4,
             "#fde0ef"
            ],
            [
             0.5,
             "#f7f7f7"
            ],
            [
             0.6,
             "#e6f5d0"
            ],
            [
             0.7,
             "#b8e186"
            ],
            [
             0.8,
             "#7fbc41"
            ],
            [
             0.9,
             "#4d9221"
            ],
            [
             1,
             "#276419"
            ]
           ],
           "sequential": [
            [
             0,
             "#0d0887"
            ],
            [
             0.1111111111111111,
             "#46039f"
            ],
            [
             0.2222222222222222,
             "#7201a8"
            ],
            [
             0.3333333333333333,
             "#9c179e"
            ],
            [
             0.4444444444444444,
             "#bd3786"
            ],
            [
             0.5555555555555556,
             "#d8576b"
            ],
            [
             0.6666666666666666,
             "#ed7953"
            ],
            [
             0.7777777777777778,
             "#fb9f3a"
            ],
            [
             0.8888888888888888,
             "#fdca26"
            ],
            [
             1,
             "#f0f921"
            ]
           ],
           "sequentialminus": [
            [
             0,
             "#0d0887"
            ],
            [
             0.1111111111111111,
             "#46039f"
            ],
            [
             0.2222222222222222,
             "#7201a8"
            ],
            [
             0.3333333333333333,
             "#9c179e"
            ],
            [
             0.4444444444444444,
             "#bd3786"
            ],
            [
             0.5555555555555556,
             "#d8576b"
            ],
            [
             0.6666666666666666,
             "#ed7953"
            ],
            [
             0.7777777777777778,
             "#fb9f3a"
            ],
            [
             0.8888888888888888,
             "#fdca26"
            ],
            [
             1,
             "#f0f921"
            ]
           ]
          },
          "colorway": [
           "#636efa",
           "#EF553B",
           "#00cc96",
           "#ab63fa",
           "#FFA15A",
           "#19d3f3",
           "#FF6692",
           "#B6E880",
           "#FF97FF",
           "#FECB52"
          ],
          "font": {
           "color": "#2a3f5f"
          },
          "geo": {
           "bgcolor": "white",
           "lakecolor": "white",
           "landcolor": "#E5ECF6",
           "showlakes": true,
           "showland": true,
           "subunitcolor": "white"
          },
          "hoverlabel": {
           "align": "left"
          },
          "hovermode": "closest",
          "mapbox": {
           "style": "light"
          },
          "paper_bgcolor": "white",
          "plot_bgcolor": "#E5ECF6",
          "polar": {
           "angularaxis": {
            "gridcolor": "white",
            "linecolor": "white",
            "ticks": ""
           },
           "bgcolor": "#E5ECF6",
           "radialaxis": {
            "gridcolor": "white",
            "linecolor": "white",
            "ticks": ""
           }
          },
          "scene": {
           "xaxis": {
            "backgroundcolor": "#E5ECF6",
            "gridcolor": "white",
            "gridwidth": 2,
            "linecolor": "white",
            "showbackground": true,
            "ticks": "",
            "zerolinecolor": "white"
           },
           "yaxis": {
            "backgroundcolor": "#E5ECF6",
            "gridcolor": "white",
            "gridwidth": 2,
            "linecolor": "white",
            "showbackground": true,
            "ticks": "",
            "zerolinecolor": "white"
           },
           "zaxis": {
            "backgroundcolor": "#E5ECF6",
            "gridcolor": "white",
            "gridwidth": 2,
            "linecolor": "white",
            "showbackground": true,
            "ticks": "",
            "zerolinecolor": "white"
           }
          },
          "shapedefaults": {
           "line": {
            "color": "#2a3f5f"
           }
          },
          "ternary": {
           "aaxis": {
            "gridcolor": "white",
            "linecolor": "white",
            "ticks": ""
           },
           "baxis": {
            "gridcolor": "white",
            "linecolor": "white",
            "ticks": ""
           },
           "bgcolor": "#E5ECF6",
           "caxis": {
            "gridcolor": "white",
            "linecolor": "white",
            "ticks": ""
           }
          },
          "title": {
           "x": 0.05
          },
          "xaxis": {
           "automargin": true,
           "gridcolor": "white",
           "linecolor": "white",
           "ticks": "",
           "title": {
            "standoff": 15
           },
           "zerolinecolor": "white",
           "zerolinewidth": 2
          },
          "yaxis": {
           "automargin": true,
           "gridcolor": "white",
           "linecolor": "white",
           "ticks": "",
           "title": {
            "standoff": 15
           },
           "zerolinecolor": "white",
           "zerolinewidth": 2
          }
         }
        },
        "title": {
         "font": {
          "size": 22
         },
         "text": "Gráfica de los clusters usando PCA-3D",
         "x": 0.5,
         "xanchor": "center",
         "y": 0.95,
         "yanchor": "top"
        }
       }
      }
     },
     "metadata": {},
     "output_type": "display_data"
    }
   ],
   "source": [
    "fig = px.scatter_3d(pca_df_3d, x='pca1',y='pca2',z='pca3',color='cluster',symbol='cluster',size_max=18,opacity=0.7)\n",
    "fig.update_layout(\n",
    "    margin=dict(l=0,r=0,b=0,t=0),\n",
    "    title={\n",
    "                'text': 'Gráfica de los clusters usando PCA-3D',\n",
    "                'y':0.95,\n",
    "                'x':0.5,\n",
    "                'xanchor': 'center',\n",
    "                'yanchor': 'top',\n",
    "                'font_size': 22\n",
    "                }\n",
    "            )"
   ]
  },
  {
   "attachments": {},
   "cell_type": "markdown",
   "metadata": {},
   "source": [
    "## **Coeficiente de la Silhueta**"
   ]
  },
  {
   "cell_type": "code",
   "execution_count": 263,
   "metadata": {},
   "outputs": [
    {
     "data": {
      "image/png": "[encoded data removed]",
      "text/plain": [
       "<Figure size 1000x700 with 1 Axes>"
      ]
     },
     "metadata": {},
     "output_type": "display_data"
    }
   ],
   "source": [
    "# Preparamos una lista donde vamos a ir agregando los valores medios de silhouette \n",
    "# Aca ponen el Dataset con el que quieren trabajar\n",
    "x_robust_3d = principal_component_3d\n",
    "lista_sil = []\n",
    "K = np.arange(2,8)\n",
    "# Fiteammos un modelo para cada numero de cluster que queremos testear\n",
    "for k in K:\n",
    "    # Definimos y entrenamos el modelo\n",
    "    km = KMeans(n_clusters=k)\n",
    "    km = km.fit(x_robust_3d)\n",
    "    \n",
    "    # Tomamos las etiquetas\n",
    "    etiquetas = km.labels_\n",
    "    \n",
    "    # Calculamos el silhouette \n",
    "    valor_medio_sil = silhouette_score(x_robust_3d, etiquetas)\n",
    "    lista_sil.append(valor_medio_sil)\n",
    "    \n",
    "plt.figure(figsize = (10,7))\n",
    "plt.plot(K, lista_sil, lw=3)\n",
    "plt.scatter(K, lista_sil,s=55,c='r')\n",
    "plt.xlabel('Cantidad de Clusters K')\n",
    "plt.ylabel('Silhouette media')\n",
    "plt.title('Silhouette media')\n",
    "\n",
    "plt.show()"
   ]
  },
  {
   "cell_type": "code",
   "execution_count": 267,
   "metadata": {},
   "outputs": [
    {
     "data": {
      "text/plain": [
       "(129, 39)"
      ]
     },
     "execution_count": 267,
     "metadata": {},
     "output_type": "execute_result"
    }
   ],
   "source": [
    "df_robust_scaled.shape"
   ]
  },
  {
   "cell_type": "code",
   "execution_count": 268,
   "metadata": {},
   "outputs": [
    {
     "data": {
      "image/png": "[encoded data removed]",
      "text/plain": [
       "<Figure size 1000x700 with 1 Axes>"
      ]
     },
     "metadata": {},
     "output_type": "display_data"
    }
   ],
   "source": [
    "# Preparamos una lista donde vamos a ir agregando los valores medios de silhouette \n",
    "# Aca ponen el Dataset con el que quieren trabajar\n",
    "x_robust_3d = df_robust_scaled\n",
    "lista_sil = []\n",
    "K = np.arange(2,8)\n",
    "# Fiteammos un modelo para cada numero de cluster que queremos testear\n",
    "for k in K:\n",
    "    # Definimos y entrenamos el modelo\n",
    "    km = KMeans(n_clusters=k)\n",
    "    km = km.fit(x_robust_3d)\n",
    "    \n",
    "    # Tomamos las etiquetas\n",
    "    etiquetas = km.labels_\n",
    "    \n",
    "    # Calculamos el silhouette \n",
    "    valor_medio_sil = silhouette_score(x_robust_3d, etiquetas)\n",
    "    lista_sil.append(valor_medio_sil)\n",
    "    \n",
    "plt.figure(figsize = (10,7))\n",
    "plt.plot(K, lista_sil, lw=3)\n",
    "plt.scatter(K, lista_sil,s=55,c='r')\n",
    "plt.xlabel('Cantidad de Clusters K')\n",
    "plt.ylabel('Silhouette media')\n",
    "plt.title('Silhouette media')\n",
    "\n",
    "plt.show()"
   ]
  },
  {
   "attachments": {},
   "cell_type": "markdown",
   "metadata": {},
   "source": [
    "#### **Visualización de los valores de Silhueta para 2 componentes principales que fueron escalado con RobustScaler()**"
   ]
  },
  {
   "cell_type": "code",
   "execution_count": 269,
   "metadata": {},
   "outputs": [],
   "source": [
    "# Visualización de los valores de Silhueta para 3 componentes principales que fueron escalado con RobustScaler()\n",
    "from sklearn.metrics import silhouette_samples, silhouette_score\n",
    "import matplotlib.cm as cm"
   ]
  },
  {
   "cell_type": "code",
   "execution_count": 272,
   "metadata": {},
   "outputs": [
    {
     "data": {
      "image/png": "[encoded data removed]",
      "text/plain": [
       "<Figure size 1800x700 with 1 Axes>"
      ]
     },
     "metadata": {},
     "output_type": "display_data"
    }
   ],
   "source": [
    "# Aca ponen el Dataset con el que quieren trabajar\n",
    "x_robust_3d = principal_component_3d\n",
    "# x_robust_3d = df_robust_scaled\n",
    "# Definición de la lista de ks para los cuales quieren hacer un gráfico\n",
    "lista_k = [3]\n",
    "for i, k in enumerate(lista_k):\n",
    "    fig, ax1 = plt.subplots(1, 1)\n",
    "    fig.set_size_inches(18, 7)\n",
    "    \n",
    "    # Algoritmo KMeans\n",
    "    km = KMeans(n_clusters=k)\n",
    "    labels = km.fit_predict(x_robust_3d)\n",
    "    centroids = km.cluster_centers_\n",
    "\n",
    "    # Uso de silhouette samples\n",
    "    silhouette_vals = silhouette_samples(x_robust_3d, labels)\n",
    "\n",
    "    # Silhouette plot\n",
    "    y_ticks = []\n",
    "    y_lower, y_upper = 0, 0\n",
    "    for i, cluster in enumerate(np.unique(labels)):\n",
    "        cluster_silhouette_vals = silhouette_vals[labels == cluster]\n",
    "        cluster_silhouette_vals.sort()\n",
    "        y_upper += len(cluster_silhouette_vals)\n",
    "        ax1.barh(range(y_lower, y_upper), cluster_silhouette_vals, edgecolor='none', height=1)\n",
    "        ax1.text(-0.03, (y_lower + y_upper) / 2, str(i + 1))\n",
    "        y_lower += len(cluster_silhouette_vals)\n",
    "\n",
    "    # Calculo de promedio de silhouette\n",
    "    avg_score = np.mean(silhouette_vals)\n",
    "    ax1.axvline(avg_score, linestyle='--', linewidth=2, color='green')\n",
    "    ax1.set_yticks([])\n",
    "    ax1.set_xlim([-0.1, 1])\n",
    "    ax1.set_xlabel('Valores del coeficiente de Silueta')\n",
    "    ax1.set_ylabel('Etiquetas de clúster')\n",
    "    ax1.set_title('Gráfica de Silueta para los diversos grupos de pacientes', y=1.02)"
   ]
  },
  {
   "cell_type": "code",
   "execution_count": null,
   "metadata": {},
   "outputs": [],
   "source": [
    "# Eportar el modelo en archivo pickle\n",
    "import joblib\n"
   ]
  }
 ],
 "metadata": {
  "kernelspec": {
   "display_name": "venv",
   "language": "python",
   "name": "python3"
  },
  "language_info": {
   "codemirror_mode": {
    "name": "ipython",
    "version": 3
   },
   "file_extension": ".py",
   "mimetype": "text/x-python",
   "name": "python",
   "nbconvert_exporter": "python",
   "pygments_lexer": "ipython3",
   "version": "3.7.9"
  },
  "orig_nbformat": 4
 },
 "nbformat": 4,
 "nbformat_minor": 2
}
